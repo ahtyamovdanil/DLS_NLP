{
 "cells": [
  {
   "cell_type": "markdown",
   "metadata": {
    "colab_type": "text",
    "id": "Ot3c4fjZwC4T"
   },
   "source": [
    "<img src=\"https://s8.hostingkartinok.com/uploads/images/2018/08/308b49fcfbc619d629fe4604bceb67ac.jpg\" width=500, height=450>\n",
    "<h3 style=\"text-align: center;\"><b>Физтех-Школа Прикладной математики и информатики (ФПМИ) МФТИ</b></h3>"
   ]
  },
  {
   "cell_type": "markdown",
   "metadata": {
    "colab_type": "text",
    "id": "P2JdzEXmwRU5"
   },
   "source": [
    "---"
   ]
  },
  {
   "cell_type": "markdown",
   "metadata": {
    "colab_type": "text",
    "id": "nPWDLqBJ5a3M"
   },
   "source": [
    "<b> Прочитайте семинар, пожалуйста, для успешного выполнения домашнего задания"
   ]
  },
  {
   "cell_type": "markdown",
   "metadata": {
    "colab_type": "text",
    "id": "TWRRBc7Z5a3O"
   },
   "source": [
    "## Задача поиска схожих по смыслу предложений"
   ]
  },
  {
   "cell_type": "markdown",
   "metadata": {
    "colab_type": "text",
    "id": "t9Ov8-7a5a3Q"
   },
   "source": [
    "Мы будем ранжировать вопросы [StackOverflow](https://stackoverflow.com) на основе семантического векторного представления "
   ]
  },
  {
   "cell_type": "markdown",
   "metadata": {
    "colab_type": "text",
    "id": "dNRXIEfu5a3Q"
   },
   "source": [
    "До этого в курсе не было речи про задачу ранжировния, поэтому введем математическую формулировку"
   ]
  },
  {
   "cell_type": "markdown",
   "metadata": {
    "colab_type": "text",
    "id": "uS9FwWNd5a3S"
   },
   "source": [
    "## Задача ранжирования(Learning to Rank)"
   ]
  },
  {
   "cell_type": "markdown",
   "metadata": {
    "colab_type": "text",
    "id": "wdwY9-f75a3T"
   },
   "source": [
    "* $X$ - множество объектов\n",
    "* $X^l = \\{x_1, x_2, ..., x_l\\}$ - обучающая выборка\n",
    "<br>На обучающей выборке задан порядок между некоторыми элементами, то есть нам известно, что некий объект выборки более релевантный для нас, чем другой:\n",
    "* $i \\prec j$ - порядок пары индексов объектов на выборке $X^l$ c индексами $i$ и $j$\n",
    "### Задача:\n",
    "построить ранжирующую функцию $a$ : $X \\rightarrow R$ такую, что\n",
    "$$i \\prec j \\Rightarrow a(x_i) < a(x_j)$$"
   ]
  },
  {
   "cell_type": "markdown",
   "metadata": {
    "colab_type": "text",
    "id": "WG2IGBsh5a3U"
   },
   "source": [
    "<img src=\"https://d25skit2l41vkl.cloudfront.net/wp-content/uploads/2016/12/Featured-Image.jpg\" width=500, height=450>"
   ]
  },
  {
   "cell_type": "markdown",
   "metadata": {
    "colab_type": "text",
    "id": "Svbx8w905a3V"
   },
   "source": [
    "### Данные\n",
    "`test.tsv` - тестовая выборка. В каждой строке через табуляцию записаны: *<вопрос>, <похожий вопрос>, <отрицательный пример 1>, <отрицательный пример 2>, ...*"
   ]
  },
  {
   "cell_type": "markdown",
   "metadata": {
    "colab_type": "text",
    "id": "5_uw862G5a3W"
   },
   "source": [
    "Будем использовать предобученные векторные представления слов [GoogleNews-vectors-negative300](https://drive.google.com/file/d/0B7XkCwpI5KDYNlNUTTlSS21pQmM/edit) (<b>скачаем их</b>), которые были обучены с помощью стандартной модели word2vec на данных Google News (100 миллиардов слов). Модель содержит 300-мерные вектора для 3 миллионов слов и фраз"
   ]
  },
  {
   "cell_type": "markdown",
   "metadata": {
    "colab_type": "text",
    "id": "IumfhGG55a3Y"
   },
   "source": [
    "<b>Загрузим</b> их после <b>скачивания</b> с помощью функции [KeyedVectors.load_word2vec_format](https://radimrehurek.com/gensim/models/keyedvectors.html) библиотеки Gensim, с которой вы познакомились на семинаре. Загрузим только часть векторов, указав параметр *limit* = 500000."
   ]
  },
  {
   "cell_type": "code",
   "execution_count": 2,
   "metadata": {
    "colab": {},
    "colab_type": "code",
    "id": "JpiKBAmJ5a3b"
   },
   "outputs": [],
   "source": [
    "import gensim"
   ]
  },
  {
   "cell_type": "code",
   "execution_count": 3,
   "metadata": {},
   "outputs": [
    {
     "name": "stdout",
     "output_type": "stream",
     "text": [
      "итого 1805372\n",
      "-rw-rw-r-- 1 mirror_pc mirror_pc 1647046227 мар  6  2015  GoogleNews-vectors-negative300.bin.gz\n",
      "-rw-rw-r-- 1 mirror_pc mirror_pc      55690 мар 30 02:24 '[homework]embeddings.ipynb'\n",
      "-rw-rw-r-- 1 mirror_pc mirror_pc     147706 мар 26 21:59  Seminar_2.ipynb\n",
      "-rw-rw-r-- 1 mirror_pc mirror_pc     107540 мар 30 02:05 '[seminar]embeddings.ipynb'\n",
      "-rw-rw-r-- 1 mirror_pc mirror_pc  201326592 мар 30 00:38  test.tsv\n",
      "-rw-rw-r-- 1 mirror_pc mirror_pc        778 мар 30 02:25  Untitled.ipynb\n"
     ]
    }
   ],
   "source": [
    "!ls -l"
   ]
  },
  {
   "cell_type": "raw",
   "metadata": {},
   "source": [
    "!wget \"https://s3.amazonaws.com/dl4j-distribution/GoogleNews-vectors-negative300.bin.gz\""
   ]
  },
  {
   "cell_type": "code",
   "execution_count": 4,
   "metadata": {},
   "outputs": [
    {
     "name": "stdout",
     "output_type": "stream",
     "text": [
      " GoogleNews-vectors-negative300.bin.gz\t'[seminar]embeddings.ipynb'\n",
      "'[homework]embeddings.ipynb'\t\t test.tsv\n",
      " Seminar_2.ipynb\t\t\t Untitled.ipynb\n"
     ]
    }
   ],
   "source": [
    "!ls"
   ]
  },
  {
   "cell_type": "code",
   "execution_count": 5,
   "metadata": {
    "colab": {},
    "colab_type": "code",
    "id": "hYd6edVv5a3h"
   },
   "outputs": [],
   "source": [
    "wv_embeddings = gensim.models.KeyedVectors.load_word2vec_format(fname='GoogleNews-vectors-negative300.bin.gz', \n",
    "                                                                limit=500000, \n",
    "                                                                binary=True)"
   ]
  },
  {
   "cell_type": "markdown",
   "metadata": {
    "colab_type": "text",
    "id": "IQNIUiSe5a3m"
   },
   "source": [
    "### Как пользоваться этими векторами?"
   ]
  },
  {
   "cell_type": "markdown",
   "metadata": {
    "colab_type": "text",
    "id": "lBW-8I5_5a3o"
   },
   "source": [
    "Посмотрим на примере одного слова, что из себя представляет embedding"
   ]
  },
  {
   "cell_type": "code",
   "execution_count": 6,
   "metadata": {
    "colab": {},
    "colab_type": "code",
    "id": "e-IMHALD5a3q",
    "scrolled": true
   },
   "outputs": [
    {
     "name": "stdout",
     "output_type": "stream",
     "text": [
      "float32 (300,)\n"
     ]
    }
   ],
   "source": [
    "word = 'dog'\n",
    "if word in wv_embeddings:\n",
    "    print(wv_embeddings[word].dtype, wv_embeddings[word].shape)"
   ]
  },
  {
   "cell_type": "markdown",
   "metadata": {
    "colab_type": "text",
    "id": "9dznrXUN5a3w"
   },
   "source": [
    "<b>Еще раз напомню, что семинар нужно прочитать"
   ]
  },
  {
   "cell_type": "markdown",
   "metadata": {
    "colab_type": "text",
    "id": "WRX93vwq5a3x"
   },
   "source": [
    "Найдем наиболее близкие слова к слову `dog`:"
   ]
  },
  {
   "cell_type": "markdown",
   "metadata": {
    "colab_type": "text",
    "id": "n08z2PjMwC5o"
   },
   "source": [
    "### Вопрос 1:\n",
    "* Входит ли слов `cat` топ-5 близких слов к слову `dog`?"
   ]
  },
  {
   "cell_type": "code",
   "execution_count": 7,
   "metadata": {
    "colab": {},
    "colab_type": "code",
    "id": "1Q98a2x85a39",
    "scrolled": true
   },
   "outputs": [
    {
     "data": {
      "text/plain": [
       "[('dogs', 0.8680489659309387),\n",
       " ('puppy', 0.8106428384780884),\n",
       " ('pit_bull', 0.780396044254303),\n",
       " ('pooch', 0.7627377510070801),\n",
       " ('cat', 0.7609456777572632)]"
      ]
     },
     "execution_count": 7,
     "metadata": {},
     "output_type": "execute_result"
    }
   ],
   "source": [
    "wv_embeddings.most_similar('dog')[:5]"
   ]
  },
  {
   "cell_type": "markdown",
   "metadata": {},
   "source": [
    "### ответ: входит"
   ]
  },
  {
   "cell_type": "markdown",
   "metadata": {
    "colab_type": "text",
    "id": "WU3klj-15a3_"
   },
   "source": [
    "### Векторные представления текста\n",
    "\n",
    "Перейдем от векторных представлений отдельных слов к векторным представлениям вопросов, как к **среднему** векторов всех слов в вопросе. Если для какого-то слова нет предобученного вектора, то его нужно пропустить. Если вопрос не содержит ни одного известного слова, то нужно вернуть нулевой вектор."
   ]
  },
  {
   "cell_type": "code",
   "execution_count": 8,
   "metadata": {
    "colab": {},
    "colab_type": "code",
    "id": "FuQ6bClV5a4B"
   },
   "outputs": [],
   "source": [
    "import numpy as np\n",
    "from nltk.tokenize import WordPunctTokenizer\n",
    "tokenizer = WordPunctTokenizer()"
   ]
  },
  {
   "cell_type": "code",
   "execution_count": 9,
   "metadata": {
    "colab": {},
    "colab_type": "code",
    "id": "Dm02wjKS5a4K"
   },
   "outputs": [],
   "source": [
    "def question_to_vec(question, embeddings, dim=300):\n",
    "    \"\"\"\n",
    "        question: строка\n",
    "        embeddings: наше векторное представление\n",
    "        dim: размер любого вектора в нашем представлении\n",
    "        \n",
    "        return: векторное представление для вопроса\n",
    "    \"\"\"\n",
    "    \n",
    "    # убрать знак вопроса, если он есть\n",
    "    if (question[-1] == '?'):\n",
    "        question = question[:-1] \n",
    "        \n",
    "    words = question.split()\n",
    "    n_known = 0\n",
    "    result = np.array([0] * dim, dtype=float)\n",
    "    \n",
    "    for word in words:\n",
    "        if word in embeddings:\n",
    "            result += embeddings[word]\n",
    "            n_known += 1\n",
    "            \n",
    "    if n_known != 0:\n",
    "        return result/n_known \n",
    "    else:\n",
    "        return result"
   ]
  },
  {
   "cell_type": "markdown",
   "metadata": {
    "colab_type": "text",
    "id": "_XScw4It5a4X"
   },
   "source": [
    "Теперь у нас есть метод для создания векторного представления любого предложения."
   ]
  },
  {
   "cell_type": "code",
   "execution_count": 10,
   "metadata": {
    "colab": {},
    "colab_type": "code",
    "id": "2dSpTxx05a4b",
    "scrolled": true
   },
   "outputs": [
    {
     "data": {
      "text/plain": [
       "array([ 0.04595184,  0.0269351 ,  0.11054993,  0.0921936 , -0.11459351,\n",
       "        0.01525879,  0.11273193, -0.09738159,  0.12084961,  0.00967407,\n",
       "       -0.03707886, -0.13684082,  0.00310516, -0.03552246, -0.12207031,\n",
       "        0.10625839,  0.00444031,  0.09875488,  0.05386353, -0.12213135,\n",
       "       -0.05764771,  0.06591797,  0.00317383, -0.04666138,  0.05702209,\n",
       "        0.05664062, -0.03503418,  0.03863525,  0.04203796,  0.05371094,\n",
       "       -0.02070618,  0.04748535, -0.07824707,  0.01635742,  0.10097885,\n",
       "        0.00585938, -0.00561523, -0.01503754,  0.02844238,  0.09838867,\n",
       "        0.08006287,  0.0032959 ,  0.09762573, -0.05657959, -0.06182861,\n",
       "        0.04142761, -0.02633667,  0.09741211, -0.00680542,  0.02069092,\n",
       "        0.0725708 ,  0.02129364,  0.00027466, -0.07229614,  0.06286621,\n",
       "        0.04891968,  0.03386307, -0.02281952,  0.03150177, -0.03197098,\n",
       "       -0.03773499,  0.09776878, -0.07946777, -0.07989502, -0.05422974,\n",
       "       -0.01104736,  0.00726128,  0.04527283, -0.08407593,  0.01989746,\n",
       "        0.07623291,  0.0274353 ,  0.04943848, -0.04602051, -0.03921509,\n",
       "       -0.04472351,  0.10644531,  0.07336426,  0.04052734,  0.20288086,\n",
       "        0.0526123 , -0.09521484,  0.11682129, -0.05116272, -0.07367706,\n",
       "       -0.0868969 , -0.00946808,  0.16674805,  0.08448792,  0.02532959,\n",
       "        0.05410385,  0.03063965, -0.07862473, -0.099823  , -0.07910156,\n",
       "       -0.13696289, -0.02334595,  0.07039642,  0.034729  ,  0.00961304,\n",
       "       -0.06228638,  0.00275421, -0.01672363,  0.02264404, -0.13635254,\n",
       "       -0.00753784, -0.04147339, -0.01953125, -0.02526855, -0.10322571,\n",
       "        0.06814575, -0.06132507, -0.01809692,  0.03790283,  0.0625    ,\n",
       "        0.05429077,  0.02738953, -0.07829285,  0.03371048,  0.03085327,\n",
       "       -0.14331055,  0.00976562, -0.01831055,  0.10974121, -0.06863403,\n",
       "        0.00289917, -0.04934692, -0.00228882,  0.0308094 , -0.01428223,\n",
       "       -0.112854  , -0.11297989, -0.06420898, -0.09674072, -0.00255585,\n",
       "       -0.14886475,  0.07358551,  0.03637695, -0.00596619,  0.04942322,\n",
       "        0.15942383, -0.07032776,  0.11865234, -0.0642395 , -0.00820923,\n",
       "       -0.01763916, -0.08892822, -0.10131836, -0.08135986, -0.02362061,\n",
       "        0.02955627,  0.1237793 , -0.12860107,  0.0625    ,  0.02810669,\n",
       "       -0.0186615 , -0.01293945, -0.13208008, -0.01641846, -0.10118103,\n",
       "       -0.02401733,  0.15881348,  0.04545021, -0.00891113, -0.02450562,\n",
       "       -0.02496338,  0.01849365, -0.04154682,  0.08465576,  0.04415894,\n",
       "       -0.05792236, -0.00842285, -0.03765869, -0.0847168 , -0.01956177,\n",
       "        0.02719116,  0.07208252, -0.10864258,  0.05291748, -0.05145264,\n",
       "       -0.06546021, -0.0520668 ,  0.00470734, -0.07928467,  0.05700684,\n",
       "       -0.04602051, -0.00764465,  0.05987549,  0.11282349,  0.03857422,\n",
       "        0.06219482,  0.08833313,  0.04294586, -0.00692749, -0.07592773,\n",
       "        0.02209473, -0.037323  ,  0.03027344, -0.06072998, -0.12768555,\n",
       "        0.02289581,  0.05395508, -0.05975342,  0.13317871, -0.0063858 ,\n",
       "        0.03985596, -0.11437988,  0.00485229,  0.06356812, -0.0189209 ,\n",
       "        0.05000305,  0.08276367, -0.0413208 ,  0.04272461, -0.19897461,\n",
       "        0.06866455,  0.15081787, -0.03591919, -0.07635498,  0.06560516,\n",
       "       -0.02545166,  0.00312805, -0.03740406, -0.05508423,  0.09194946,\n",
       "       -0.02264404,  0.04516602,  0.04525757, -0.01898193,  0.12738037,\n",
       "        0.00344467, -0.07116699,  0.03149414, -0.05004883,  0.0513916 ,\n",
       "       -0.04992676, -0.05618286, -0.04193115,  0.02203369, -0.00128174,\n",
       "        0.03269958, -0.06994629,  0.05426025, -0.15917969, -0.04467773,\n",
       "       -0.0914917 ,  0.05703735,  0.01643372,  0.03622866, -0.00393677,\n",
       "       -0.03410339, -0.01739502,  0.06533051,  0.02520752,  0.11480713,\n",
       "        0.02111816,  0.05072021,  0.05224609, -0.07928467, -0.0602417 ,\n",
       "        0.02705383, -0.10430908, -0.07977295,  0.0201416 ,  0.00152588,\n",
       "        0.1512146 ,  0.04473877, -0.03152466, -0.11962891, -0.00131226,\n",
       "        0.06808472,  0.12915039,  0.22021484,  0.11114502, -0.00097656,\n",
       "        0.00219727, -0.0650177 , -0.15527344, -0.04046631, -0.06204224,\n",
       "        0.02216339, -0.09127808,  0.00079536,  0.06690216,  0.03076172,\n",
       "       -0.0627594 , -0.03030396, -0.05413818,  0.02093506,  0.07559204,\n",
       "       -0.13153076,  0.01495361, -0.13708496, -0.01649475, -0.08770752,\n",
       "        0.0178833 ,  0.04605103,  0.02047348,  0.06549072, -0.07299805])"
      ]
     },
     "execution_count": 10,
     "metadata": {},
     "output_type": "execute_result"
    }
   ],
   "source": [
    "question = 'what time is it?'\n",
    "question_to_vec(question, wv_embeddings)"
   ]
  },
  {
   "cell_type": "code",
   "execution_count": 11,
   "metadata": {},
   "outputs": [
    {
     "data": {
      "text/plain": [
       "array([0., 0., 0., 0., 0., 0., 0., 0., 0., 0., 0., 0., 0., 0., 0., 0., 0.,\n",
       "       0., 0., 0., 0., 0., 0., 0., 0., 0., 0., 0., 0., 0., 0., 0., 0., 0.,\n",
       "       0., 0., 0., 0., 0., 0., 0., 0., 0., 0., 0., 0., 0., 0., 0., 0., 0.,\n",
       "       0., 0., 0., 0., 0., 0., 0., 0., 0., 0., 0., 0., 0., 0., 0., 0., 0.,\n",
       "       0., 0., 0., 0., 0., 0., 0., 0., 0., 0., 0., 0., 0., 0., 0., 0., 0.,\n",
       "       0., 0., 0., 0., 0., 0., 0., 0., 0., 0., 0., 0., 0., 0., 0., 0., 0.,\n",
       "       0., 0., 0., 0., 0., 0., 0., 0., 0., 0., 0., 0., 0., 0., 0., 0., 0.,\n",
       "       0., 0., 0., 0., 0., 0., 0., 0., 0., 0., 0., 0., 0., 0., 0., 0., 0.,\n",
       "       0., 0., 0., 0., 0., 0., 0., 0., 0., 0., 0., 0., 0., 0., 0., 0., 0.,\n",
       "       0., 0., 0., 0., 0., 0., 0., 0., 0., 0., 0., 0., 0., 0., 0., 0., 0.,\n",
       "       0., 0., 0., 0., 0., 0., 0., 0., 0., 0., 0., 0., 0., 0., 0., 0., 0.,\n",
       "       0., 0., 0., 0., 0., 0., 0., 0., 0., 0., 0., 0., 0., 0., 0., 0., 0.,\n",
       "       0., 0., 0., 0., 0., 0., 0., 0., 0., 0., 0., 0., 0., 0., 0., 0., 0.,\n",
       "       0., 0., 0., 0., 0., 0., 0., 0., 0., 0., 0., 0., 0., 0., 0., 0., 0.,\n",
       "       0., 0., 0., 0., 0., 0., 0., 0., 0., 0., 0., 0., 0., 0., 0., 0., 0.,\n",
       "       0., 0., 0., 0., 0., 0., 0., 0., 0., 0., 0., 0., 0., 0., 0., 0., 0.,\n",
       "       0., 0., 0., 0., 0., 0., 0., 0., 0., 0., 0., 0., 0., 0., 0., 0., 0.,\n",
       "       0., 0., 0., 0., 0., 0., 0., 0., 0., 0., 0.])"
      ]
     },
     "execution_count": 11,
     "metadata": {},
     "output_type": "execute_result"
    }
   ],
   "source": [
    "question = 'ybuyb uyvyuv'\n",
    "question_to_vec(question, wv_embeddings)"
   ]
  },
  {
   "cell_type": "markdown",
   "metadata": {
    "colab_type": "text",
    "id": "6qh97exs5a4g"
   },
   "source": [
    "### Оценка близости текстов\n",
    "\n",
    "Представим, что мы используем идеальные векторные представления слов. Тогда косинусное расстояние между дублирующими предложениями должно быть меньше, чем между случайно взятыми предложениями. \n",
    "\n",
    "Сгенерируем для каждого из $N$ вопросов $R$ случайных отрицательных примеров и примешаем к ним также настоящие дубликаты. Для каждого вопроса будем ранжировать с помощью нашей модели $R + 1$ примеров и смотреть на позицию дубликата. Мы хотим, чтобы дубликат был первым в ранжированном списке.\n",
    "\n",
    "#### Hits@K\n",
    "Первой простой метрикой будет количество корректных попаданий для какого-то $K$:\n",
    "$$ \\text{Hits@K} = \\frac{1}{N}\\sum_{i=1}^N \\, [rank\\_q_i^{'} \\le K],$$\n",
    "* $q_i$ - $i$-ый вопрос\n",
    "* $q_i^{'}$ - его дубликат\n",
    "* $rank\\_q_i^{'}$ - позиция дубликата в ранжированном списке ближайших предложений для вопроса $q_i$.\n",
    "\n",
    "#### DCG@K\n",
    "Второй метрикой будет упрощенная DCG метрика, учитывающая порядок элементов в списке путем домножения релевантности элемента на вес равный обратному логарифму номера позиции::\n",
    "$$ \\text{DCG@K} = \\frac{1}{N} \\sum_{i=1}^N\\frac{1}{\\log_2(1+rank\\_q_i^{'})}\\cdot[rank\\_q_i^{'} \\le K],$$\n",
    "С такой метрикой модель штрафуется за низкую позицию корректного ответа"
   ]
  },
  {
   "cell_type": "markdown",
   "metadata": {
    "colab_type": "text",
    "id": "9IhyVcWe5a4m"
   },
   "source": [
    "<img src='https://hsto.org/files/1c5/edf/dee/1c5edfdeebce4b71a86bdf986d9f88f2.jpg' width=400, height=200>"
   ]
  },
  {
   "cell_type": "markdown",
   "metadata": {
    "colab_type": "text",
    "id": "YFMvZ8BV5a4o"
   },
   "source": [
    "#### Пример оценок\n",
    "\n",
    "Вычислим описанные выше метрики для игрушечного примера. \n",
    "Пусть\n",
    "* $N = 1$, $R = 3$\n",
    "* <font color='green'>\"Что такое python\"</font> - вопрос $q_1$\n",
    "* <font color='red'>\"Что такое язык python\"</font> - его дубликат $q_i^{'}$\n",
    "\n",
    "Пусть модель выдала следующий ранжированный список кандидатов:\n",
    "\n",
    "1. *\"Как узнать с++\"*\n",
    "2. <font color='red'>*\"Что такое язык python\"*</font>\n",
    "3. *\"Хочу учить Java\"*\n",
    "4. *\"Не понимаю Tensorflow\"*\n",
    "\n",
    "$\\Rightarrow rank\\_q_i^{'} = 2$\n",
    "\n",
    "Вычислим метрику *Hits@K* для *K = 1, 4*:\n",
    "\n",
    "- [K = 1] $\\text{Hits@1} =  [rank\\_q_i^{'} \\le 1] = 0$\n",
    "- [K = 4] $\\text{Hits@4} =  [rank\\_q_i^{'} \\le 4] = 1$\n",
    "\n",
    "Вычислим метрику *DCG@K* для *K = 1, 4*:\n",
    "- [K = 1] $\\text{DCG@1} = \\frac{1}{\\log_2(1+2)}\\cdot[2 \\le 1] = 0$\n",
    "- [K = 4] $\\text{DCG@4} = \\frac{1}{\\log_2(1+2)}\\cdot[2 \\le 4] = \\frac{1}{\\log_2{3}}$"
   ]
  },
  {
   "cell_type": "markdown",
   "metadata": {
    "colab_type": "text",
    "id": "UVBlWQuZ5a4q"
   },
   "source": [
    "### HITS\\_COUNT и DCG\\_SCORE"
   ]
  },
  {
   "cell_type": "markdown",
   "metadata": {
    "colab_type": "text",
    "id": "0kk6LQ3-5a4r"
   },
   "source": [
    "Каждая функция имеет два аргумента: $dup\\_ranks$ и $k$. $dup\\_ranks$ является списком, который содержит рейтинги дубликатов $rank\\_q_i^{'}$(их позиции в ранжированном списке). Например, $dup\\_ranks = [2]$ для примера, описанного выше."
   ]
  },
  {
   "cell_type": "code",
   "execution_count": 12,
   "metadata": {
    "colab": {},
    "colab_type": "code",
    "id": "SkM7vgXo5a4s"
   },
   "outputs": [],
   "source": [
    "def hits_count(dup_ranks, k):\n",
    "    \"\"\"\n",
    "        result: вернуть  Hits@k\n",
    "    \"\"\"\n",
    "    N = len(dup_ranks)\n",
    "    hits_value = len([item for item in dup_ranks if item <= k])/N\n",
    "    return hits_value    "
   ]
  },
  {
   "cell_type": "code",
   "execution_count": 13,
   "metadata": {},
   "outputs": [
    {
     "data": {
      "text/plain": [
       "1.0"
      ]
     },
     "execution_count": 13,
     "metadata": {},
     "output_type": "execute_result"
    }
   ],
   "source": [
    "hits_count([2], 4)"
   ]
  },
  {
   "cell_type": "code",
   "execution_count": 14,
   "metadata": {
    "colab": {},
    "colab_type": "code",
    "id": "-6ir49bE5a4u"
   },
   "outputs": [],
   "source": [
    "def dcg_score(dup_ranks, k):\n",
    "    \"\"\"\n",
    "        result: вернуть DCG@k\n",
    "    \"\"\"\n",
    "    new_dup_ranks = np.array(dup_ranks)\n",
    "    N = len(dup_ranks)\n",
    "    dcg_value = sum([1/np.log2(1+item) for item in dup_ranks if item <= k])/N\n",
    "    return dcg_value"
   ]
  },
  {
   "cell_type": "code",
   "execution_count": 15,
   "metadata": {},
   "outputs": [
    {
     "data": {
      "text/plain": [
       "0.6309297535714575"
      ]
     },
     "execution_count": 15,
     "metadata": {},
     "output_type": "execute_result"
    }
   ],
   "source": [
    "dcg_score([2], 4)"
   ]
  },
  {
   "cell_type": "markdown",
   "metadata": {
    "colab_type": "text",
    "id": "M0_G1Z3r5a41"
   },
   "source": [
    "Протестируем функции. Пусть $N = 1$, то есть один эксперимент. Будем искать копию вопроса и оценивать метрики."
   ]
  },
  {
   "cell_type": "code",
   "execution_count": 16,
   "metadata": {
    "colab": {},
    "colab_type": "code",
    "id": "DLOIiB4i5a44"
   },
   "outputs": [],
   "source": [
    "import pandas as pd"
   ]
  },
  {
   "cell_type": "code",
   "execution_count": 17,
   "metadata": {
    "colab": {},
    "colab_type": "code",
    "id": "aVmOdu6X5a48"
   },
   "outputs": [
    {
     "name": "stdout",
     "output_type": "stream",
     "text": [
      "Ваш ответ HIT: [0.0, 1.0, 1.0, 1.0]\n",
      "Ваш ответ DCG: [0.0, 0.63093, 0.63093, 0.63093]\n"
     ]
    }
   ],
   "source": [
    "copy_answers = [\"How does the catch keyword determine the type of exception that was thrown\"]\n",
    "\n",
    "# наги кандидаты\n",
    "candidates_ranking = [[\"How Can I Make These Links Rotate in PHP\",\n",
    "                       \"How does the catch keyword determine the type of exception that was thrown\",\n",
    "                       \"NSLog array description not memory address\",\n",
    "                       \"PECL_HTTP not recognised php ubuntu\"]]\n",
    "# dup_ranks — позиции наших копий, так как эксперимент один, то этот массив длины 1\n",
    "dup_ranks = [candidates_ranking[i].index(copy_answers[i]) + 1 for i in range(len(copy_answers))]\n",
    "\n",
    "# вычисляем метрику для разных k\n",
    "print('Ваш ответ HIT:', [hits_count(dup_ranks, k) for k in range(1, 5)])\n",
    "print('Ваш ответ DCG:', [round(dcg_score(dup_ranks, k), 5) for k in range(1, 5)])"
   ]
  },
  {
   "cell_type": "code",
   "execution_count": 18,
   "metadata": {},
   "outputs": [
    {
     "data": {
      "text/plain": [
       "1"
      ]
     },
     "execution_count": 18,
     "metadata": {},
     "output_type": "execute_result"
    }
   ],
   "source": [
    "candidates_ranking[0].index(\"How does the catch keyword determine the type of exception that was thrown\")"
   ]
  },
  {
   "cell_type": "markdown",
   "metadata": {
    "colab_type": "text",
    "id": "O9Fq2xzU5a4-"
   },
   "source": [
    "У вас должно получиться"
   ]
  },
  {
   "cell_type": "code",
   "execution_count": 19,
   "metadata": {
    "colab": {},
    "colab_type": "code",
    "id": "fbIJ9ngd5a4_",
    "scrolled": true
   },
   "outputs": [
    {
     "data": {
      "text/html": [
       "<div>\n",
       "<style scoped>\n",
       "    .dataframe tbody tr th:only-of-type {\n",
       "        vertical-align: middle;\n",
       "    }\n",
       "\n",
       "    .dataframe tbody tr th {\n",
       "        vertical-align: top;\n",
       "    }\n",
       "\n",
       "    .dataframe thead th {\n",
       "        text-align: right;\n",
       "    }\n",
       "</style>\n",
       "<table border=\"1\" class=\"dataframe\">\n",
       "  <thead>\n",
       "    <tr style=\"text-align: right;\">\n",
       "      <th></th>\n",
       "      <th>1</th>\n",
       "      <th>2</th>\n",
       "      <th>3</th>\n",
       "      <th>4</th>\n",
       "    </tr>\n",
       "  </thead>\n",
       "  <tbody>\n",
       "    <tr>\n",
       "      <th>HITS</th>\n",
       "      <td>0</td>\n",
       "      <td>1.00000</td>\n",
       "      <td>1.00000</td>\n",
       "      <td>1.00000</td>\n",
       "    </tr>\n",
       "    <tr>\n",
       "      <th>DCG</th>\n",
       "      <td>0</td>\n",
       "      <td>0.63093</td>\n",
       "      <td>0.63093</td>\n",
       "      <td>0.63093</td>\n",
       "    </tr>\n",
       "  </tbody>\n",
       "</table>\n",
       "</div>"
      ],
      "text/plain": [
       "      1        2        3        4\n",
       "HITS  0  1.00000  1.00000  1.00000\n",
       "DCG   0  0.63093  0.63093  0.63093"
      ]
     },
     "execution_count": 19,
     "metadata": {},
     "output_type": "execute_result"
    }
   ],
   "source": [
    "# correct_answers - метрика для разных k\n",
    "correct_answers = pd.DataFrame([[0, 1, 1, 1], [0, 1 / (np.log2(3)), 1 / (np.log2(3)), 1 / (np.log2(3))]],\n",
    "                               index=['HITS', 'DCG'], columns=range(1,5))\n",
    "correct_answers"
   ]
  },
  {
   "cell_type": "markdown",
   "metadata": {
    "colab_type": "text",
    "id": "lK7YcWpc5a5A"
   },
   "source": [
    "### Ранжирование вопросов StackOverflow\n",
    "\n",
    "- *тестовая* выборка (test.tsv) содержит в каждой строке: *вопрос, похожий вопрос, отрицательный пример 1, отрицательный пример 2, ...*\n",
    "TEST!!!"
   ]
  },
  {
   "cell_type": "markdown",
   "metadata": {
    "colab_type": "text",
    "id": "RqoQyKZ45a5B"
   },
   "source": [
    "Считаем тестовую выборку для оценки качества текущего решения."
   ]
  },
  {
   "cell_type": "code",
   "execution_count": 20,
   "metadata": {
    "colab": {},
    "colab_type": "code",
    "id": "Lsx8De1B5a5C"
   },
   "outputs": [],
   "source": [
    "def read_corpus(filename):\n",
    "    data = []\n",
    "    for line in open(filename, encoding='utf-8'):\n",
    "        data.append(line.strip().split('\\t'))\n",
    "    return data"
   ]
  },
  {
   "cell_type": "raw",
   "metadata": {
    "colab": {},
    "colab_type": "code",
    "id": "IX_8qWD0yLW1"
   },
   "source": [
    "!wget -O test.tsv https://drive.google.com/open?id=12VAWjs-kvpgapurkuURus7E53F711uFV"
   ]
  },
  {
   "cell_type": "code",
   "execution_count": 21,
   "metadata": {
    "colab": {},
    "colab_type": "code",
    "id": "h2fwUZTe5a5E"
   },
   "outputs": [],
   "source": [
    "test = read_corpus('test.tsv')"
   ]
  },
  {
   "cell_type": "markdown",
   "metadata": {
    "colab_type": "text",
    "id": "0i2z68xw5a5H"
   },
   "source": [
    "Кол-во строк"
   ]
  },
  {
   "cell_type": "code",
   "execution_count": 22,
   "metadata": {
    "colab": {},
    "colab_type": "code",
    "id": "KcwQDs3Q5a5H"
   },
   "outputs": [
    {
     "data": {
      "text/plain": [
       "3760"
      ]
     },
     "execution_count": 22,
     "metadata": {},
     "output_type": "execute_result"
    }
   ],
   "source": [
    "len(test)"
   ]
  },
  {
   "cell_type": "markdown",
   "metadata": {
    "colab_type": "text",
    "id": "TmFOVQjO5a5J"
   },
   "source": [
    "Размер нескольких первых строк"
   ]
  },
  {
   "cell_type": "code",
   "execution_count": 23,
   "metadata": {
    "colab": {},
    "colab_type": "code",
    "id": "XIEqlZMo5a5J"
   },
   "outputs": [
    {
     "name": "stdout",
     "output_type": "stream",
     "text": [
      "1 1001\n",
      "2 1001\n",
      "3 1001\n",
      "4 1001\n",
      "5 1001\n"
     ]
    }
   ],
   "source": [
    "for i in range(5):\n",
    "    print(i + 1, len(test[0]))"
   ]
  },
  {
   "cell_type": "markdown",
   "metadata": {
    "colab_type": "text",
    "id": "AQt_L87C5a5L"
   },
   "source": [
    "Реализуйте функцию ранжирования кандидатов на основе косинусного расстояния. Функция должна по списку кандидатов вернуть отсортированный список пар (позиция в исходном списке кандидатов, кандидат). При этом позиция кандидата в полученном списке является его рейтингом (первый - лучший). Например, если исходный список кандидатов был [a, b, c], и самый похожий на исходный вопрос среди них - c, затем a, и в конце b, то функция должна вернуть список *[(2, c), (0, a), (1, b)]*."
   ]
  },
  {
   "cell_type": "code",
   "execution_count": 24,
   "metadata": {
    "colab": {},
    "colab_type": "code",
    "id": "97oA-Fqu5a5M"
   },
   "outputs": [],
   "source": [
    "from sklearn.metrics.pairwise import cosine_similarity\n",
    "from copy import deepcopy"
   ]
  },
  {
   "cell_type": "code",
   "execution_count": 25,
   "metadata": {
    "colab": {},
    "colab_type": "code",
    "id": "b3bjCEEQ5a5P"
   },
   "outputs": [],
   "source": [
    "def rank_candidates(question, candidates, embeddings, dim=300):\n",
    "    \"\"\"\n",
    "        question: строка\n",
    "        candidates: массив строк(кандидатов) [a, b, c]\n",
    "        result: пары (начальная позиция, кандидат) [(2, c), (0, a), (1, b)]\n",
    "    \"\"\"\n",
    "    vec_question = question_to_vec(question, wv_embeddings)\n",
    "    vec_candidates = np.array([question_to_vec(candidates[i], wv_embeddings)\n",
    "                               for i in range(len(candidates))])\n",
    "    \n",
    "    rank_candidates = np.array([(i, candidates[i]) for i in range(len(candidates))])\n",
    "    # ранжирование\n",
    "    dist_s = cosine_similarity(vec_candidates, np.array([vec_question]))[:, 0]\n",
    "    return deepcopy(rank_candidates[dist_s.argsort()[::-1]])"
   ]
  },
  {
   "cell_type": "markdown",
   "metadata": {
    "colab_type": "text",
    "id": "UCFddzQ35a5R"
   },
   "source": [
    "Протестируйте работу функции на примерах ниже. Пусть $N=2$, то есть два эксперимента"
   ]
  },
  {
   "cell_type": "code",
   "execution_count": 26,
   "metadata": {
    "colab": {},
    "colab_type": "code",
    "id": "uppLyNlj5a5R"
   },
   "outputs": [],
   "source": [
    "questions = ['converting string to list', 'Sending array via Ajax fails'] \n",
    "\n",
    "candidates = [['Convert Google results object (pure js) to Python object', # первый эксперимент\n",
    "               'C# create cookie from string and send it',\n",
    "               'How to use jQuery AJAX for an outside domain?'],\n",
    "              \n",
    "              ['Getting all list items of an unordered list in PHP',      # второй эксперимент\n",
    "               'WPF- How to update the changes in list item of a list',\n",
    "               'select2 not displaying search results']]"
   ]
  },
  {
   "cell_type": "code",
   "execution_count": 27,
   "metadata": {
    "colab": {},
    "colab_type": "code",
    "id": "-tsmUYcz5a5T"
   },
   "outputs": [
    {
     "name": "stdout",
     "output_type": "stream",
     "text": [
      "[['1' 'C# create cookie from string and send it']\n",
      " ['0' 'Convert Google results object (pure js) to Python object']\n",
      " ['2' 'How to use jQuery AJAX for an outside domain?']]\n",
      "\n",
      "[['0' 'Getting all list items of an unordered list in PHP']\n",
      " ['2' 'select2 not displaying search results']\n",
      " ['1' 'WPF- How to update the changes in list item of a list']]\n",
      "\n"
     ]
    }
   ],
   "source": [
    "for question, q_candidates in zip(questions, candidates):\n",
    "        ranks = rank_candidates(question, q_candidates, wv_embeddings, 300)\n",
    "        print(ranks)\n",
    "        print()\n"
   ]
  },
  {
   "cell_type": "markdown",
   "metadata": {
    "colab_type": "text",
    "id": "5cfIHuoC5a5V"
   },
   "source": [
    "Для первого экперимента вы можете полностью сравнить ваши ответы и правильные ответы. Но для второго эксперимента два ответа на кандидаты будут <b>скрыты</b>(*)"
   ]
  },
  {
   "cell_type": "code",
   "execution_count": 28,
   "metadata": {
    "colab": {},
    "colab_type": "code",
    "id": "A4iUkm7_5a5V"
   },
   "outputs": [],
   "source": [
    "# должно вывести\n",
    "results = [[(1, 'C# create cookie from string and send it'),\n",
    "            (0, 'Convert Google results object (pure js) to Python object'),\n",
    "            (2, 'How to use jQuery AJAX for an outside domain?')],\n",
    "           [(0, 'Getting all list items of an unordered list in PHP'),\n",
    "            (2, 'select2 not displaying search results'), #скрыт\n",
    "            (1, 'WPF- How to update the changes in list item of a list')]] #скрыт"
   ]
  },
  {
   "cell_type": "markdown",
   "metadata": {
    "colab_type": "text",
    "id": "t_1lmt995a5X"
   },
   "source": [
    "Последовательность начальных индексов вы должны получить `для экспереминта 1`  1, 0, 2. Для второго экперимента вы знаете один индекс уже."
   ]
  },
  {
   "cell_type": "markdown",
   "metadata": {
    "colab_type": "text",
    "id": "OgFyYJl_5a5Y"
   },
   "source": [
    "Теперь мы можем оценить качество нашего метода. Запустите следующие два блока кода для получения результата. Обратите внимание, что вычисление расстояния между векторами занимает некоторое время (примерно 10 минут)."
   ]
  },
  {
   "cell_type": "code",
   "execution_count": 29,
   "metadata": {
    "colab": {},
    "colab_type": "code",
    "id": "JSc5HXkQ5a5Z"
   },
   "outputs": [
    {
     "name": "stdout",
     "output_type": "stream",
     "text": [
      "CPU times: user 18min 43s, sys: 48min 13s, total: 1h 6min 57s\n",
      "Wall time: 4min 12s\n"
     ]
    }
   ],
   "source": [
    "%%time\n",
    "wv_ranking = []\n",
    "for line in test:\n",
    "    q, *ex = line\n",
    "    ranks = rank_candidates(q, ex, wv_embeddings)\n",
    "    wv_ranking.append([r[0] for r in ranks].index('0') + 1)"
   ]
  },
  {
   "cell_type": "code",
   "execution_count": 30,
   "metadata": {
    "colab": {},
    "colab_type": "code",
    "id": "JzQ4Dqsk5a5b",
    "scrolled": true
   },
   "outputs": [
    {
     "name": "stdout",
     "output_type": "stream",
     "text": [
      "DCG@   1: 0.227 | Hits@   1: 0.227\n",
      "DCG@   5: 0.281 | Hits@   5: 0.328\n",
      "DCG@  10: 0.299 | Hits@  10: 0.383\n",
      "DCG@ 100: 0.339 | Hits@ 100: 0.584\n",
      "DCG@ 500: 0.369 | Hits@ 500: 0.822\n",
      "DCG@1000: 0.388 | Hits@1000: 1.000\n"
     ]
    }
   ],
   "source": [
    "for k in [1, 5, 10, 100, 500, 1000]:\n",
    "    print(\"DCG@%4d: %.3f | Hits@%4d: %.3f\" % (k, dcg_score(wv_ranking, k), k, hits_count(wv_ranking, k)))"
   ]
  },
  {
   "cell_type": "markdown",
   "metadata": {
    "colab_type": "text",
    "id": "Pox7gZ4e5a5d"
   },
   "source": [
    "Если вы проделали все шаги правильно, то вы должны немного разочароваться полученными результатами. Давайте попробуем понять, почему качество модели такое низкое. Когда вы работаете с какими-либо данными, очень полезно первым делом посмотреть на них глазами. Выведим несколько вопросов из наших данных:"
   ]
  },
  {
   "cell_type": "code",
   "execution_count": 31,
   "metadata": {
    "colab": {},
    "colab_type": "code",
    "id": "WKGpEfGt5a5e"
   },
   "outputs": [
    {
     "name": "stdout",
     "output_type": "stream",
     "text": [
      "How to print a binary heap tree without recursion? How do you best convert a recursive function to an iterative one? How can i use ng-model with directive in angular js flash: drawing and erasing\n",
      "\n",
      "How to start PhoneStateListener programmatically? PhoneStateListener and service Java cast object[] to model WCF and What does this mean?\n",
      "\n",
      "jQuery: Show a div2 when mousenter over div1 is over when hover on div1 depenting on if it is on div2 or not it should act differently How to run selenium in google app engine/cloud? Python Comparing two lists of strings for similarities\n",
      "\n"
     ]
    }
   ],
   "source": [
    "for line in test[:3]:\n",
    "    q, *examples = line\n",
    "    print(q, *examples[:3])\n",
    "    print()"
   ]
  },
  {
   "cell_type": "markdown",
   "metadata": {
    "colab_type": "text",
    "id": "FDOpGjae5a5g"
   },
   "source": [
    "Как вы можете заметить, мы имеем дело с сырыми данными. Это означает, что там присутствует много опечаток, спецсимволов и заглавных букв. В нашем случае это все может привести к ситуации, когда для данных токенов нет предобученных векторов. Поэтому необходима предобработка.\n",
    "\n",
    "Реализуйем функцию предобработки текстов. Вам требуется:\n",
    "- Перевести символы в нижний регистр;\n",
    "- Заменить символы пунктуации на пробелы;\n",
    "- Удалить \"плохие\" символы;\n",
    "- Удалить стопслова."
   ]
  },
  {
   "cell_type": "code",
   "execution_count": 32,
   "metadata": {
    "colab": {},
    "colab_type": "code",
    "id": "ac0j8X3k5a5g",
    "scrolled": true
   },
   "outputs": [
    {
     "name": "stderr",
     "output_type": "stream",
     "text": [
      "[nltk_data] Downloading package stopwords to\n",
      "[nltk_data]     /home/mirror_pc/nltk_data...\n",
      "[nltk_data]   Package stopwords is already up-to-date!\n"
     ]
    }
   ],
   "source": [
    "import re\n",
    "import nltk\n",
    "import string\n",
    "nltk.download('stopwords')\n",
    "from nltk.corpus import stopwords"
   ]
  },
  {
   "cell_type": "markdown",
   "metadata": {
    "colab_type": "text",
    "id": "_1zawtBF5a5j"
   },
   "source": [
    "Кол-во стоп стопслов"
   ]
  },
  {
   "cell_type": "code",
   "execution_count": 33,
   "metadata": {
    "colab": {},
    "colab_type": "code",
    "id": "57d9zCBG5a5k"
   },
   "outputs": [
    {
     "data": {
      "text/plain": [
       "179"
      ]
     },
     "execution_count": 33,
     "metadata": {},
     "output_type": "execute_result"
    }
   ],
   "source": [
    "stopWords = set(stopwords.words('english'))\n",
    "len(stopWords)"
   ]
  },
  {
   "cell_type": "code",
   "execution_count": 34,
   "metadata": {
    "colab": {},
    "colab_type": "code",
    "id": "IqraPyi85a5n"
   },
   "outputs": [],
   "source": [
    "def text_prepare(text):\n",
    "    \"\"\"\n",
    "        text: a string\n",
    "        \n",
    "        return: modified string\n",
    "    \"\"\"\n",
    "    # Перевести символы в нижний регистр\n",
    "    text = text.lower()\n",
    "    \n",
    "    # Заменить символы пунктуации на пробелы\n",
    "    text = re.sub(r'[{}]'.format(string.punctuation), ' ', text)\n",
    "    \n",
    "    # Удалить \"плохие\" символы\n",
    "    text = re.sub('[^A-Za-z0-9 ]', '', text)\n",
    "    \n",
    "    # Удалить стопслова.\n",
    "    stopWords = set(stopwords.words('english'))\n",
    "    for stopWord in stopWords:\n",
    "        text = re.sub(stopWord,'',text)\n",
    "    return text"
   ]
  },
  {
   "cell_type": "markdown",
   "metadata": {
    "colab_type": "text",
    "id": "ZBj7eHjL5a5o"
   },
   "source": [
    "Теперь преобразуйте все вопросы из тестовой выборки. Оцените, как изменилось качество. Сделайте выводы. Для изменения текста понадобиться около 30 минут."
   ]
  },
  {
   "cell_type": "code",
   "execution_count": 35,
   "metadata": {
    "colab": {},
    "colab_type": "code",
    "id": "KLWHQx0N5a5p"
   },
   "outputs": [
    {
     "name": "stderr",
     "output_type": "stream",
     "text": [
      "100%|██████████| 3760/3760 [16:08<00:00,  3.88it/s]"
     ]
    },
    {
     "name": "stdout",
     "output_type": "stream",
     "text": [
      "CPU times: user 15min 44s, sys: 26.3 s, total: 16min 10s\n",
      "Wall time: 16min 9s\n"
     ]
    },
    {
     "name": "stderr",
     "output_type": "stream",
     "text": [
      "\n"
     ]
    }
   ],
   "source": [
    "%%time\n",
    "from IPython.display import clear_output\n",
    "from tqdm import tqdm\n",
    "from copy import deepcopy\n",
    "new_test = deepcopy(test)\n",
    "for i in tqdm(range(len(test))):\n",
    "    clear_output(wait=True)\n",
    "    for j in range(len(test[i])):\n",
    "        new_test[i][j] = text_prepare(test[i][j])"
   ]
  },
  {
   "cell_type": "code",
   "execution_count": 36,
   "metadata": {
    "colab": {},
    "colab_type": "code",
    "id": "_lvpac8C5a5q",
    "scrolled": true
   },
   "outputs": [],
   "source": [
    "wv_ranking = []\n",
    "for line in new_test:\n",
    "    q, *ex = line\n",
    "    ranks = rank_candidates(q, ex, wv_embeddings)\n",
    "    wv_ranking.append([r[0] for r in ranks].index('0') + 1)"
   ]
  },
  {
   "cell_type": "code",
   "execution_count": 37,
   "metadata": {
    "colab": {},
    "colab_type": "code",
    "id": "fX1_3me75a5s",
    "scrolled": true
   },
   "outputs": [
    {
     "name": "stdout",
     "output_type": "stream",
     "text": [
      "DCG@   1: 0.118 | Hits@   1: 0.118\n",
      "DCG@   5: 0.159 | Hits@   5: 0.194\n",
      "DCG@  10: 0.172 | Hits@  10: 0.235\n",
      "DCG@ 100: 0.210 | Hits@ 100: 0.430\n",
      "DCG@ 500: 0.246 | Hits@ 500: 0.714\n",
      "DCG@1000: 0.276 | Hits@1000: 1.000\n"
     ]
    }
   ],
   "source": [
    "for k in [1, 5, 10, 100, 500, 1000]:\n",
    "    print(\"DCG@%4d: %.3f | Hits@%4d: %.3f\" % (k, dcg_score(wv_ranking, k), k, hits_count(wv_ranking, k)))"
   ]
  },
  {
   "cell_type": "markdown",
   "metadata": {
    "colab_type": "text",
    "id": "Il-kkuKf5a5u"
   },
   "source": [
    "# Finally!.. Visualization! (Again..)"
   ]
  },
  {
   "cell_type": "markdown",
   "metadata": {
    "colab_type": "text",
    "id": "23pmSM_a5a5v"
   },
   "source": [
    "Раз уж мы научились получать эмбеддинги предложений, а не только слов, давайте попробуем визуализировать эмбеддинги предложений!\n",
    "\n",
    "Функция получения эмбеддинга по предложению у нас уже есть (question_to_vec в начале ноутбука). Нам осталось выбрать, какой датасет мы будем использовать (quora.txt с семинара или stackoverflow из этого дз), и далее:\n",
    "\n",
    "1. Проделать предобработку вопросов (text_prepare, как выше)\n",
    "2. Для всех вопросов получить эмбединнги (question_to_vec)\n",
    "3. Применить к массиву эмбеддингов TSNE (как на семинаре)\n",
    "4. Не забыть нормализовать векторы, полученные из TSNE\n",
    "5. Запустить функцию draw из семинара!"
   ]
  },
  {
   "cell_type": "code",
   "execution_count": 38,
   "metadata": {
    "colab": {},
    "colab_type": "code",
    "id": "Tv_PfQg15a5w"
   },
   "outputs": [],
   "source": [
    "vec_questions = []\n",
    "\n",
    "for line in new_test:\n",
    "    q, *ex = line\n",
    "    vec_questions.append(question_to_vec(q, wv_embeddings))"
   ]
  },
  {
   "cell_type": "code",
   "execution_count": 45,
   "metadata": {},
   "outputs": [
    {
     "name": "stdout",
     "output_type": "stream",
     "text": [
      "[t-SNE] Computing 91 nearest neighbors...\n",
      "[t-SNE] Indexed 3760 samples in 0.050s...\n",
      "[t-SNE] Computed neighbors for 3760 samples in 1.113s...\n",
      "[t-SNE] Computed conditional probabilities for sample 1000 / 3760\n",
      "[t-SNE] Computed conditional probabilities for sample 2000 / 3760\n",
      "[t-SNE] Computed conditional probabilities for sample 3000 / 3760\n",
      "[t-SNE] Computed conditional probabilities for sample 3760 / 3760\n",
      "[t-SNE] Mean sigma: 0.000000\n",
      "[t-SNE] Computed conditional probabilities in 0.102s\n",
      "[t-SNE] Iteration 50: error = 83.0469055, gradient norm = 0.0391380 (50 iterations in 2.066s)\n",
      "[t-SNE] Iteration 100: error = 82.9645004, gradient norm = 0.0147576 (50 iterations in 1.940s)\n",
      "[t-SNE] Iteration 150: error = 83.0276718, gradient norm = 0.0356007 (50 iterations in 1.966s)\n",
      "[t-SNE] Iteration 200: error = 83.2086639, gradient norm = 0.0133788 (50 iterations in 2.120s)\n",
      "[t-SNE] Iteration 250: error = 83.1474075, gradient norm = 0.0150294 (50 iterations in 2.186s)\n",
      "[t-SNE] KL divergence after 250 iterations with early exaggeration: 83.147408\n",
      "[t-SNE] Iteration 300: error = 2.6510706, gradient norm = 0.0014513 (50 iterations in 1.535s)\n",
      "[t-SNE] Iteration 350: error = 2.3738773, gradient norm = 0.0005053 (50 iterations in 1.486s)\n",
      "[t-SNE] Iteration 400: error = 2.2572548, gradient norm = 0.0003041 (50 iterations in 1.420s)\n",
      "[t-SNE] Iteration 450: error = 2.1970389, gradient norm = 0.0002379 (50 iterations in 1.410s)\n",
      "[t-SNE] Iteration 500: error = 2.1620810, gradient norm = 0.0001546 (50 iterations in 1.430s)\n",
      "[t-SNE] Iteration 550: error = 2.1389239, gradient norm = 0.0001254 (50 iterations in 1.382s)\n",
      "[t-SNE] Iteration 600: error = 2.1247239, gradient norm = 0.0001150 (50 iterations in 1.435s)\n",
      "[t-SNE] Iteration 650: error = 2.1124270, gradient norm = 0.0000979 (50 iterations in 1.383s)\n",
      "[t-SNE] Iteration 700: error = 2.1038101, gradient norm = 0.0000885 (50 iterations in 1.400s)\n",
      "[t-SNE] Iteration 750: error = 2.0979168, gradient norm = 0.0000843 (50 iterations in 1.421s)\n",
      "[t-SNE] Iteration 800: error = 2.0933669, gradient norm = 0.0000757 (50 iterations in 1.387s)\n",
      "[t-SNE] Iteration 850: error = 2.0888791, gradient norm = 0.0000671 (50 iterations in 1.387s)\n",
      "[t-SNE] Iteration 900: error = 2.0859962, gradient norm = 0.0000689 (50 iterations in 1.362s)\n",
      "[t-SNE] Iteration 950: error = 2.0827222, gradient norm = 0.0000700 (50 iterations in 1.396s)\n",
      "[t-SNE] Iteration 1000: error = 2.0800860, gradient norm = 0.0000612 (50 iterations in 1.392s)\n",
      "[t-SNE] KL divergence after 1000 iterations: 2.080086\n"
     ]
    }
   ],
   "source": [
    "from sklearn.manifold import TSNE\n",
    "from sklearn.preprocessing import StandardScaler\n",
    "\n",
    "tsne = TSNE(n_components=2, verbose=50, n_jobs=-1)\n",
    "#tsne.fit(vec_questions)\n",
    "vec_questions_tsne = tsne.fit_transform(vec_questions)\n",
    "\n",
    "ss = StandardScaler().fit(vec_questions_tsne)\n",
    "vec_questions_tsne = ss.transform(vec_questions_tsne)"
   ]
  },
  {
   "cell_type": "markdown",
   "metadata": {
    "colab_type": "text",
    "id": "8WP6SLiZ5a5x"
   },
   "source": [
    "Отлично. Но, к сожалению, визуализацию тестами на канвасе проверить нельзя, поэтому давайте еще напишем функцию, которая будет находить к вопросу ближайшие похожие =)"
   ]
  },
  {
   "cell_type": "code",
   "execution_count": 92,
   "metadata": {},
   "outputs": [
    {
     "data": {
      "image/png": "[encoded data removed]",
      "text/plain": [
       "<Figure size 864x576 with 1 Axes>"
      ]
     },
     "metadata": {
      "needs_background": "light"
     },
     "output_type": "display_data"
    }
   ],
   "source": [
    "import matplotlib.pyplot as plt\n",
    "import seaborn as sns\n",
    "\n",
    "plt.figure(figsize=(12,8))\n",
    "sns.scatterplot(vec_questions_tsne[:, 0], \n",
    "                vec_questions_tsne[:, 1], \n",
    "                edgecolor = 'none',\n",
    "                alpha = 0.4,\n",
    "                size = 100)\n",
    "plt.show()"
   ]
  },
  {
   "cell_type": "code",
   "execution_count": null,
   "metadata": {},
   "outputs": [],
   "source": [
    "ranks = rank_candidates(question, q_candidates, wv_embeddings, 300)"
   ]
  },
  {
   "cell_type": "code",
   "execution_count": 97,
   "metadata": {},
   "outputs": [
    {
     "data": {
      "text/plain": [
       "[353, 881, 1, 533, 66, 2, 580, 1, 1, 124]"
      ]
     },
     "execution_count": 97,
     "metadata": {},
     "output_type": "execute_result"
    }
   ],
   "source": [
    "wv_ranking[:10]"
   ]
  },
  {
   "cell_type": "code",
   "execution_count": 114,
   "metadata": {
    "colab": {},
    "colab_type": "code",
    "id": "h6Ob7JIp5a5y"
   },
   "outputs": [],
   "source": [
    "def find_closest_questions(question, k=5):\n",
    "    \"\"\"\n",
    "    function that finds closest questions from dataset given question\n",
    "    args:\n",
    "        question: question, preprocessed using text_prepare \n",
    "        k: how many nearest questions to find\n",
    "    \"\"\"\n",
    "    \n",
    "    vec_question = question_to_vec(question, wv_embeddings)\n",
    "    vec_candidates = vec_questions\n",
    "    \n",
    "    rank_candidates = np.array([(i, candidates[i]) for i in range(len(candidates))])\n",
    "    # ранжирование\n",
    "    dist_s = cosine_similarity(vec_candidates, np.array([vec_question]))[:, 0]\n",
    "    print(vec_question)\n",
    "    return deepcopy(rank_candidates[dist_s.argsort()[::-1]])\n",
    "    \n",
    "    "
   ]
  },
  {
   "cell_type": "code",
   "execution_count": 116,
   "metadata": {},
   "outputs": [
    {
     "data": {
      "text/plain": [
       "'     '"
      ]
     },
     "execution_count": 116,
     "metadata": {},
     "output_type": "execute_result"
    }
   ],
   "source": [
    "text_prepare(\"Why am I so stupid?\")"
   ]
  },
  {
   "cell_type": "code",
   "execution_count": 115,
   "metadata": {
    "colab": {},
    "colab_type": "code",
    "id": "gOuOgPd_5a5z"
   },
   "outputs": [
    {
     "name": "stdout",
     "output_type": "stream",
     "text": [
      "[0. 0. 0. 0. 0. 0. 0. 0. 0. 0. 0. 0. 0. 0. 0. 0. 0. 0. 0. 0. 0. 0. 0. 0.\n",
      " 0. 0. 0. 0. 0. 0. 0. 0. 0. 0. 0. 0. 0. 0. 0. 0. 0. 0. 0. 0. 0. 0. 0. 0.\n",
      " 0. 0. 0. 0. 0. 0. 0. 0. 0. 0. 0. 0. 0. 0. 0. 0. 0. 0. 0. 0. 0. 0. 0. 0.\n",
      " 0. 0. 0. 0. 0. 0. 0. 0. 0. 0. 0. 0. 0. 0. 0. 0. 0. 0. 0. 0. 0. 0. 0. 0.\n",
      " 0. 0. 0. 0. 0. 0. 0. 0. 0. 0. 0. 0. 0. 0. 0. 0. 0. 0. 0. 0. 0. 0. 0. 0.\n",
      " 0. 0. 0. 0. 0. 0. 0. 0. 0. 0. 0. 0. 0. 0. 0. 0. 0. 0. 0. 0. 0. 0. 0. 0.\n",
      " 0. 0. 0. 0. 0. 0. 0. 0. 0. 0. 0. 0. 0. 0. 0. 0. 0. 0. 0. 0. 0. 0. 0. 0.\n",
      " 0. 0. 0. 0. 0. 0. 0. 0. 0. 0. 0. 0. 0. 0. 0. 0. 0. 0. 0. 0. 0. 0. 0. 0.\n",
      " 0. 0. 0. 0. 0. 0. 0. 0. 0. 0. 0. 0. 0. 0. 0. 0. 0. 0. 0. 0. 0. 0. 0. 0.\n",
      " 0. 0. 0. 0. 0. 0. 0. 0. 0. 0. 0. 0. 0. 0. 0. 0. 0. 0. 0. 0. 0. 0. 0. 0.\n",
      " 0. 0. 0. 0. 0. 0. 0. 0. 0. 0. 0. 0. 0. 0. 0. 0. 0. 0. 0. 0. 0. 0. 0. 0.\n",
      " 0. 0. 0. 0. 0. 0. 0. 0. 0. 0. 0. 0. 0. 0. 0. 0. 0. 0. 0. 0. 0. 0. 0. 0.\n",
      " 0. 0. 0. 0. 0. 0. 0. 0. 0. 0. 0. 0.]\n"
     ]
    },
    {
     "ename": "IndexError",
     "evalue": "index 3759 is out of bounds for axis 0 with size 2",
     "output_type": "error",
     "traceback": [
      "\u001b[0;31m---------------------------------------------------------------------------\u001b[0m",
      "\u001b[0;31mIndexError\u001b[0m                                Traceback (most recent call last)",
      "\u001b[0;32m<ipython-input-115-af9b36050d81>\u001b[0m in \u001b[0;36m<module>\u001b[0;34m\u001b[0m\n\u001b[0;32m----> 1\u001b[0;31m \u001b[0mfind_closest_questions\u001b[0m\u001b[0;34m(\u001b[0m\u001b[0mtext_prepare\u001b[0m\u001b[0;34m(\u001b[0m\u001b[0;34m\"Why am I so stupid?\"\u001b[0m\u001b[0;34m)\u001b[0m\u001b[0;34m)\u001b[0m\u001b[0;34m\u001b[0m\u001b[0;34m\u001b[0m\u001b[0m\n\u001b[0m",
      "\u001b[0;32m<ipython-input-114-ec418ac9583b>\u001b[0m in \u001b[0;36mfind_closest_questions\u001b[0;34m(question, k)\u001b[0m\n\u001b[1;32m     14\u001b[0m     \u001b[0mdist_s\u001b[0m \u001b[0;34m=\u001b[0m \u001b[0mcosine_similarity\u001b[0m\u001b[0;34m(\u001b[0m\u001b[0mvec_candidates\u001b[0m\u001b[0;34m,\u001b[0m \u001b[0mnp\u001b[0m\u001b[0;34m.\u001b[0m\u001b[0marray\u001b[0m\u001b[0;34m(\u001b[0m\u001b[0;34m[\u001b[0m\u001b[0mvec_question\u001b[0m\u001b[0;34m]\u001b[0m\u001b[0;34m)\u001b[0m\u001b[0;34m)\u001b[0m\u001b[0;34m[\u001b[0m\u001b[0;34m:\u001b[0m\u001b[0;34m,\u001b[0m \u001b[0;36m0\u001b[0m\u001b[0;34m]\u001b[0m\u001b[0;34m\u001b[0m\u001b[0;34m\u001b[0m\u001b[0m\n\u001b[1;32m     15\u001b[0m     \u001b[0mprint\u001b[0m\u001b[0;34m(\u001b[0m\u001b[0mvec_question\u001b[0m\u001b[0;34m)\u001b[0m\u001b[0;34m\u001b[0m\u001b[0;34m\u001b[0m\u001b[0m\n\u001b[0;32m---> 16\u001b[0;31m     \u001b[0;32mreturn\u001b[0m \u001b[0mdeepcopy\u001b[0m\u001b[0;34m(\u001b[0m\u001b[0mrank_candidates\u001b[0m\u001b[0;34m[\u001b[0m\u001b[0mdist_s\u001b[0m\u001b[0;34m.\u001b[0m\u001b[0margsort\u001b[0m\u001b[0;34m(\u001b[0m\u001b[0;34m)\u001b[0m\u001b[0;34m[\u001b[0m\u001b[0;34m:\u001b[0m\u001b[0;34m:\u001b[0m\u001b[0;34m-\u001b[0m\u001b[0;36m1\u001b[0m\u001b[0;34m]\u001b[0m\u001b[0;34m]\u001b[0m\u001b[0;34m)\u001b[0m\u001b[0;34m\u001b[0m\u001b[0;34m\u001b[0m\u001b[0m\n\u001b[0m\u001b[1;32m     17\u001b[0m \u001b[0;34m\u001b[0m\u001b[0m\n\u001b[1;32m     18\u001b[0m \u001b[0;34m\u001b[0m\u001b[0m\n",
      "\u001b[0;31mIndexError\u001b[0m: index 3759 is out of bounds for axis 0 with size 2"
     ]
    }
   ],
   "source": [
    "find_closest_questions(text_prepare(\"Why am I so stupid?\"))"
   ]
  },
  {
   "cell_type": "code",
   "execution_count": 107,
   "metadata": {},
   "outputs": [
    {
     "ename": "ValueError",
     "evalue": "The truth value of an array with more than one element is ambiguous. Use a.any() or a.all()",
     "output_type": "error",
     "traceback": [
      "\u001b[0;31m---------------------------------------------------------------------------\u001b[0m",
      "\u001b[0;31mValueError\u001b[0m                                Traceback (most recent call last)",
      "\u001b[0;32m<ipython-input-107-955a635e460e>\u001b[0m in \u001b[0;36m<module>\u001b[0;34m\u001b[0m\n\u001b[0;32m----> 1\u001b[0;31m \u001b[0mvec_questions\u001b[0m\u001b[0;34m.\u001b[0m\u001b[0mindex\u001b[0m\u001b[0;34m(\u001b[0m\u001b[0mvec_questions\u001b[0m\u001b[0;34m[\u001b[0m\u001b[0;36m1\u001b[0m\u001b[0;34m]\u001b[0m\u001b[0;34m)\u001b[0m\u001b[0;34m\u001b[0m\u001b[0;34m\u001b[0m\u001b[0m\n\u001b[0m",
      "\u001b[0;31mValueError\u001b[0m: The truth value of an array with more than one element is ambiguous. Use a.any() or a.all()"
     ]
    }
   ],
   "source": [
    "vec_questions.index(vec_questions[1])"
   ]
  },
  {
   "cell_type": "code",
   "execution_count": 106,
   "metadata": {},
   "outputs": [
    {
     "data": {
      "text/plain": [
       "array([-3.12500000e-01,  1.26464844e-01,  9.52148438e-03,  1.58691406e-01,\n",
       "       -1.44653320e-01,  1.60644531e-01, -5.52062988e-02, -1.47216797e-01,\n",
       "       -9.08203125e-02,  2.37426758e-02, -2.02636719e-01, -9.86328125e-02,\n",
       "       -3.44238281e-01, -5.49316406e-02, -4.10156250e-02,  2.99804688e-01,\n",
       "        1.04980469e-02,  1.60400391e-01, -6.93359375e-02,  7.23876953e-02,\n",
       "       -2.26562500e-01, -8.78906250e-03,  1.00555420e-01, -3.36608887e-02,\n",
       "       -6.10351562e-02,  9.03320312e-03, -1.57714844e-01,  9.17968750e-02,\n",
       "        2.06909180e-02, -5.51147461e-02,  6.62231445e-02,  9.54589844e-02,\n",
       "       -6.86950684e-02, -1.43798828e-01, -1.31347656e-01,  8.49609375e-02,\n",
       "       -2.28027344e-01,  7.15942383e-02, -4.88281250e-03, -3.84521484e-02,\n",
       "        2.04772949e-02, -1.13525391e-01,  9.32617188e-02,  1.42333984e-01,\n",
       "        5.52062988e-02,  6.74438477e-02,  7.83691406e-02, -1.52343750e-01,\n",
       "       -2.01538086e-01,  1.82617188e-01, -1.73339844e-01,  2.33398438e-01,\n",
       "        2.19726562e-02,  6.28662109e-02, -1.41601562e-02,  1.69677734e-02,\n",
       "       -7.47070312e-02, -1.46972656e-01,  5.17272949e-03, -1.03271484e-01,\n",
       "       -1.38183594e-01,  6.87866211e-02, -1.39648438e-01, -1.20849609e-01,\n",
       "       -9.93652344e-02, -2.26074219e-01,  8.25195312e-02,  1.29882812e-01,\n",
       "       -2.19726562e-01,  9.46044922e-02,  9.35058594e-02,  4.54101562e-02,\n",
       "       -4.84008789e-02, -4.33959961e-02, -5.56640625e-02,  7.83691406e-02,\n",
       "        9.43603516e-02, -1.01074219e-01,  8.95423889e-02, -4.02221680e-02,\n",
       "       -2.89062500e-01,  1.84570312e-01, -1.14013672e-01, -9.08203125e-02,\n",
       "        1.86279297e-01,  2.49328613e-02,  7.42187500e-02,  8.05664062e-03,\n",
       "        8.33740234e-02,  8.44726562e-02, -5.32226562e-02, -2.44140625e-03,\n",
       "       -1.39404297e-01, -5.61523438e-02, -2.95410156e-02,  1.69921875e-01,\n",
       "       -1.92871094e-01,  8.15429688e-02,  3.17382812e-01, -6.83593750e-03,\n",
       "       -1.87988281e-01,  1.41113281e-01,  3.44238281e-02,  5.62744141e-02,\n",
       "       -8.33740234e-02,  1.66503906e-01, -2.21435547e-01,  1.09130859e-01,\n",
       "        1.20117188e-01,  1.99218750e-01, -1.63085938e-01, -1.37451172e-01,\n",
       "        3.05175781e-03, -7.45849609e-02,  7.94677734e-02,  2.17773438e-01,\n",
       "        1.02905273e-01, -1.40136719e-01,  5.76782227e-02, -1.83349609e-01,\n",
       "        8.42285156e-02,  7.88574219e-02, -1.41601562e-01, -5.56640625e-02,\n",
       "        2.23632812e-01, -1.08886719e-01, -1.78222656e-01,  3.05175781e-03,\n",
       "        6.20117188e-02, -4.11376953e-02,  1.12304688e-02, -7.20214844e-02,\n",
       "       -2.28271484e-02,  5.32226562e-02, -1.71386719e-01,  3.46679688e-02,\n",
       "        6.16455078e-02,  4.62341309e-03,  1.48437500e-01,  6.77795410e-02,\n",
       "        3.08593750e-01, -1.28417969e-01,  5.62744141e-02, -3.24707031e-02,\n",
       "       -1.82617188e-01, -5.52902222e-02,  5.15136719e-02,  1.30126953e-01,\n",
       "       -7.08618164e-02, -2.44140625e-03,  1.22070312e-02, -2.62695312e-01,\n",
       "       -2.29492188e-01, -8.74023438e-02, -1.87500000e-01, -2.88574219e-01,\n",
       "        5.44433594e-02,  2.11914062e-01,  4.19311523e-02, -1.38183594e-01,\n",
       "       -7.17163086e-02,  1.18896484e-01, -8.41674805e-02, -3.17382812e-02,\n",
       "        1.20849609e-02, -4.68750000e-02,  1.13525391e-01,  5.98754883e-02,\n",
       "       -1.41845703e-01,  7.61718750e-02, -8.84094238e-02,  3.78417969e-02,\n",
       "       -5.90820312e-02, -4.06494141e-02,  1.47705078e-02,  1.35742188e-01,\n",
       "        3.18359375e-01, -3.12011719e-01,  1.95434570e-01,  2.72827148e-02,\n",
       "        7.11669922e-02,  1.31835938e-01, -3.43017578e-02, -1.46484375e-03,\n",
       "       -3.03344727e-02,  1.66992188e-01,  4.91943359e-02,  1.64428711e-01,\n",
       "        1.23168945e-01,  1.52343750e-01,  1.68334961e-01,  6.54296875e-02,\n",
       "       -2.88085938e-01, -9.70458984e-02,  2.33642578e-01,  1.18652344e-01,\n",
       "       -5.53741455e-02,  8.19091797e-02,  2.07519531e-03, -1.83593750e-01,\n",
       "       -3.33496094e-01,  1.42425537e-01, -1.02172852e-01, -1.91650391e-01,\n",
       "       -4.06494141e-02, -1.74316406e-01, -4.85839844e-02,  1.53076172e-01,\n",
       "       -1.12670898e-01,  8.44726562e-02,  7.66601562e-02,  1.22558594e-01,\n",
       "       -1.62597656e-01, -1.48742676e-01, -1.67846680e-01,  1.17309570e-01,\n",
       "        1.92626953e-01, -3.03668976e-02, -2.91992188e-01,  1.70898438e-02,\n",
       "       -2.12646484e-01, -8.05664062e-03,  2.25097656e-01,  2.05871582e-01,\n",
       "        6.37207031e-02, -4.54101562e-02,  7.58056641e-02,  1.52587891e-02,\n",
       "        1.50726318e-01, -1.36718750e-01, -2.58789062e-02,  6.54296875e-02,\n",
       "       -1.46850586e-01, -3.38134766e-02,  4.52880859e-02,  1.67846680e-02,\n",
       "       -2.34375000e-02,  1.82571411e-02,  6.62126541e-02,  2.09594727e-01,\n",
       "       -2.97851562e-02,  1.34277344e-01,  2.12402344e-01, -7.86132812e-02,\n",
       "       -4.54101562e-02,  0.00000000e+00, -1.47949219e-01,  2.90039062e-01,\n",
       "       -1.00219727e-01, -1.86035156e-01,  1.23657227e-01,  5.62591553e-02,\n",
       "        6.88476562e-02, -4.89120483e-02,  7.05566406e-02, -9.37500000e-02,\n",
       "       -7.44628906e-02,  1.00097656e-02,  1.08703613e-01, -7.37304688e-02,\n",
       "        1.85546875e-02, -7.33261108e-02,  1.03515625e-01, -2.58789062e-02,\n",
       "       -6.34765625e-03, -9.74121094e-02,  1.45751953e-01, -6.56738281e-02,\n",
       "       -3.44238281e-02,  4.29687500e-02, -5.20019531e-02, -3.49121094e-02,\n",
       "       -5.12695312e-02,  5.84716797e-02,  2.44140625e-04, -7.15332031e-02,\n",
       "       -1.01806641e-01, -2.51708984e-01, -9.00573730e-02,  1.99768066e-01,\n",
       "       -2.29492188e-02,  8.29162598e-02,  2.42614746e-02,  9.02099609e-02,\n",
       "        1.06201172e-01,  5.67626953e-02,  1.06445312e-01, -7.00683594e-02,\n",
       "       -4.11987305e-02, -1.26708984e-01,  2.23999023e-02,  1.14379883e-01,\n",
       "       -1.85546875e-01,  8.52050781e-02, -1.60888672e-01, -1.66015625e-01,\n",
       "       -1.27685547e-01, -1.07421875e-01, -1.00830078e-01,  1.83837891e-01])"
      ]
     },
     "execution_count": 106,
     "metadata": {},
     "output_type": "execute_result"
    }
   ],
   "source": [
    "vec_questions[1]"
   ]
  },
  {
   "cell_type": "markdown",
   "metadata": {
    "colab_type": "text",
    "id": "7eqgzVF85a51"
   },
   "source": [
    "### Вопрос 10:\n",
    "* Какой самый ближайший вопрос к \"Why am I so stupid?\"?\n",
    "В канвас напишите слова вопроса с маленькой буквы через пробелы без знаков пунктуации (только латинские буквы)"
   ]
  }
 ],
 "metadata": {
  "colab": {
   "name": "[homework]embeddings.ipynb",
   "provenance": []
  },
  "kernelspec": {
   "display_name": "Python 3",
   "language": "python",
   "name": "python3"
  },
  "language_info": {
   "codemirror_mode": {
    "name": "ipython",
    "version": 3
   },
   "file_extension": ".py",
   "mimetype": "text/x-python",
   "name": "python",
   "nbconvert_exporter": "python",
   "pygments_lexer": "ipython3",
   "version": "3.7.5"
  }
 },
 "nbformat": 4,
 "nbformat_minor": 4
}
