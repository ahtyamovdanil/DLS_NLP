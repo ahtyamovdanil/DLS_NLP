{
  "nbformat": 4,
  "nbformat_minor": 0,
  "metadata": {
    "colab": {
      "name": "[homework]language_model.ipynb",
      "provenance": [],
      "collapsed_sections": [],
      "include_colab_link": true
    },
    "kernelspec": {
      "name": "python3",
      "display_name": "Python 3"
    },
    "language_info": {
      "codemirror_mode": {
        "name": "ipython",
        "version": 3
      },
      "file_extension": ".py",
      "mimetype": "text/x-python",
      "name": "python",
      "nbconvert_exporter": "python",
      "pygments_lexer": "ipython3",
      "version": "3.7.4"
    },
    "toc": {
      "base_numbering": 1,
      "nav_menu": {},
      "number_sections": false,
      "sideBar": true,
      "skip_h1_title": false,
      "title_cell": "Table of Contents",
      "title_sidebar": "Contents",
      "toc_cell": false,
      "toc_position": {},
      "toc_section_display": true,
      "toc_window_display": false
    },
    "varInspector": {
      "cols": {
        "lenName": 16,
        "lenType": 16,
        "lenVar": 40
      },
      "kernels_config": {
        "python": {
          "delete_cmd_postfix": "",
          "delete_cmd_prefix": "del ",
          "library": "var_list.py",
          "varRefreshCmd": "print(var_dic_list())"
        },
        "r": {
          "delete_cmd_postfix": ") ",
          "delete_cmd_prefix": "rm(",
          "library": "var_list.r",
          "varRefreshCmd": "cat(var_dic_list()) "
        }
      },
      "types_to_exclude": [
        "module",
        "function",
        "builtin_function_or_method",
        "instance",
        "_Feature"
      ],
      "window_display": false
    },
    "accelerator": "GPU"
  },
  "cells": [
    {
      "cell_type": "markdown",
      "metadata": {
        "id": "view-in-github",
        "colab_type": "text"
      },
      "source": [
        "<a href=\"https://colab.research.google.com/github/ahtyamovdanil/DLS_NLP/blob/master/%5Bhomework%5Dlanguage_model.ipynb\" target=\"_parent\"><img src=\"https://colab.research.google.com/assets/colab-badge.svg\" alt=\"Open In Colab\"/></a>"
      ]
    },
    {
      "cell_type": "markdown",
      "metadata": {
        "colab_type": "text",
        "id": "Ot3c4fjZwC4T"
      },
      "source": [
        "<img src=\"https://s8.hostingkartinok.com/uploads/images/2018/08/308b49fcfbc619d629fe4604bceb67ac.jpg\" width=500, height=450>\n",
        "<h3 style=\"text-align: center;\"><b>Физтех-Школа Прикладной математики и информатики (ФПМИ) МФТИ</b></h3>"
      ]
    },
    {
      "cell_type": "markdown",
      "metadata": {
        "colab_type": "text",
        "id": "P2JdzEXmwRU5"
      },
      "source": [
        "---"
      ]
    },
    {
      "cell_type": "markdown",
      "metadata": {
        "colab_type": "text",
        "id": "oMohh_6CwC4W"
      },
      "source": [
        "### Задача определения частей речи, Part-Of-Speech Tagger (POS)"
      ]
    },
    {
      "cell_type": "markdown",
      "metadata": {
        "colab_type": "text",
        "id": "2Aad2tmBwC4Y"
      },
      "source": [
        "Мы будем решать задачу определения частей речи (POS-теггинга) с помощью скрытой марковской модели (HMM)."
      ]
    },
    {
      "cell_type": "code",
      "metadata": {
        "colab_type": "code",
        "id": "gYYV0mdmwC4f",
        "scrolled": false,
        "colab": {}
      },
      "source": [
        "import nltk\n",
        "import pandas as pd\n",
        "import numpy as np\n",
        "from collections import OrderedDict, deque\n",
        "from nltk.corpus import brown\n",
        "import matplotlib.pyplot as plt"
      ],
      "execution_count": 0,
      "outputs": []
    },
    {
      "cell_type": "markdown",
      "metadata": {
        "colab_type": "text",
        "id": "FPgI52lRwC4n"
      },
      "source": [
        "Вам в помощь http://www.nltk.org/book/"
      ]
    },
    {
      "cell_type": "markdown",
      "metadata": {
        "colab_type": "text",
        "id": "hxdJxMEAwC4o"
      },
      "source": [
        "Загрузим brown корпус"
      ]
    },
    {
      "cell_type": "code",
      "metadata": {
        "colab_type": "code",
        "id": "ZvhXAL_9wC4q",
        "scrolled": true,
        "outputId": "1f60d8c0-c7da-49b3-d233-1f5539a65c5c",
        "colab": {
          "base_uri": "https://localhost:8080/",
          "height": 69
        }
      },
      "source": [
        "nltk.download('brown')"
      ],
      "execution_count": 3,
      "outputs": [
        {
          "output_type": "stream",
          "text": [
            "[nltk_data] Downloading package brown to /root/nltk_data...\n",
            "[nltk_data]   Unzipping corpora/brown.zip.\n"
          ],
          "name": "stdout"
        },
        {
          "output_type": "execute_result",
          "data": {
            "text/plain": [
              "True"
            ]
          },
          "metadata": {
            "tags": []
          },
          "execution_count": 3
        }
      ]
    },
    {
      "cell_type": "markdown",
      "metadata": {
        "colab_type": "text",
        "id": "wto8PSC6wC4v"
      },
      "source": [
        "<b>Существует не одна система тегирования, поэтому будьте внимательны, когда прогнозируете тег слов в тексте и вычисляете качество прогноза. Можете получить несправедливо низкое качество вашего решения."
      ]
    },
    {
      "cell_type": "markdown",
      "metadata": {
        "colab_type": "text",
        "id": "eJ6tuHA_wC4z"
      },
      "source": [
        "На семинаре была рассмотрена одна система. А сейчас будем использовать универсальную систему тегирования universal_tagset "
      ]
    },
    {
      "cell_type": "code",
      "metadata": {
        "colab_type": "code",
        "id": "Cht7dImWwC42",
        "outputId": "bd4c5408-8714-4a3f-93d6-268bdbbc6949",
        "colab": {
          "base_uri": "https://localhost:8080/",
          "height": 69
        }
      },
      "source": [
        "nltk.download('universal_tagset')"
      ],
      "execution_count": 4,
      "outputs": [
        {
          "output_type": "stream",
          "text": [
            "[nltk_data] Downloading package universal_tagset to /root/nltk_data...\n",
            "[nltk_data]   Unzipping taggers/universal_tagset.zip.\n"
          ],
          "name": "stdout"
        },
        {
          "output_type": "execute_result",
          "data": {
            "text/plain": [
              "True"
            ]
          },
          "metadata": {
            "tags": []
          },
          "execution_count": 4
        }
      ]
    },
    {
      "cell_type": "markdown",
      "metadata": {
        "colab_type": "text",
        "id": "IiTimRRywC47"
      },
      "source": [
        "<img src=\"https://4.bp.blogspot.com/-IcFli2wljs0/WrVCw3umY_I/AAAAAAAACYM/UJ_neoUAs3wF95dj2Ouf3BzxXzB_b2TbQCLcBGAs/s1600/postags.png\">\n"
      ]
    },
    {
      "cell_type": "markdown",
      "metadata": {
        "colab_type": "text",
        "id": "iyDBMcBSwC48"
      },
      "source": [
        "Мы имеем массив предложений пар (слово-тег)"
      ]
    },
    {
      "cell_type": "code",
      "metadata": {
        "colab_type": "code",
        "id": "BobflewQwC4-",
        "scrolled": false,
        "outputId": "4b63a270-40c9-4870-8fcb-3577d0818480",
        "colab": {
          "base_uri": "https://localhost:8080/",
          "height": 54
        }
      },
      "source": [
        "brown_tagged_sents = brown.tagged_sents(tagset=\"universal\")\n",
        "brown_tagged_sents"
      ],
      "execution_count": 5,
      "outputs": [
        {
          "output_type": "execute_result",
          "data": {
            "text/plain": [
              "[[('The', 'DET'), ('Fulton', 'NOUN'), ('County', 'NOUN'), ('Grand', 'ADJ'), ('Jury', 'NOUN'), ('said', 'VERB'), ('Friday', 'NOUN'), ('an', 'DET'), ('investigation', 'NOUN'), ('of', 'ADP'), (\"Atlanta's\", 'NOUN'), ('recent', 'ADJ'), ('primary', 'NOUN'), ('election', 'NOUN'), ('produced', 'VERB'), ('``', '.'), ('no', 'DET'), ('evidence', 'NOUN'), (\"''\", '.'), ('that', 'ADP'), ('any', 'DET'), ('irregularities', 'NOUN'), ('took', 'VERB'), ('place', 'NOUN'), ('.', '.')], [('The', 'DET'), ('jury', 'NOUN'), ('further', 'ADV'), ('said', 'VERB'), ('in', 'ADP'), ('term-end', 'NOUN'), ('presentments', 'NOUN'), ('that', 'ADP'), ('the', 'DET'), ('City', 'NOUN'), ('Executive', 'ADJ'), ('Committee', 'NOUN'), (',', '.'), ('which', 'DET'), ('had', 'VERB'), ('over-all', 'ADJ'), ('charge', 'NOUN'), ('of', 'ADP'), ('the', 'DET'), ('election', 'NOUN'), (',', '.'), ('``', '.'), ('deserves', 'VERB'), ('the', 'DET'), ('praise', 'NOUN'), ('and', 'CONJ'), ('thanks', 'NOUN'), ('of', 'ADP'), ('the', 'DET'), ('City', 'NOUN'), ('of', 'ADP'), ('Atlanta', 'NOUN'), (\"''\", '.'), ('for', 'ADP'), ('the', 'DET'), ('manner', 'NOUN'), ('in', 'ADP'), ('which', 'DET'), ('the', 'DET'), ('election', 'NOUN'), ('was', 'VERB'), ('conducted', 'VERB'), ('.', '.')], ...]"
            ]
          },
          "metadata": {
            "tags": []
          },
          "execution_count": 5
        }
      ]
    },
    {
      "cell_type": "markdown",
      "metadata": {
        "colab_type": "text",
        "id": "jSu1KqRrwC5L"
      },
      "source": [
        "Первое предложение"
      ]
    },
    {
      "cell_type": "code",
      "metadata": {
        "colab_type": "code",
        "id": "zCHCZPlkwC5N",
        "outputId": "56dce94f-bfee-4ef4-e7eb-2d41ae01647f",
        "colab": {
          "base_uri": "https://localhost:8080/",
          "height": 451
        }
      },
      "source": [
        "brown_tagged_sents[0]"
      ],
      "execution_count": 6,
      "outputs": [
        {
          "output_type": "execute_result",
          "data": {
            "text/plain": [
              "[('The', 'DET'),\n",
              " ('Fulton', 'NOUN'),\n",
              " ('County', 'NOUN'),\n",
              " ('Grand', 'ADJ'),\n",
              " ('Jury', 'NOUN'),\n",
              " ('said', 'VERB'),\n",
              " ('Friday', 'NOUN'),\n",
              " ('an', 'DET'),\n",
              " ('investigation', 'NOUN'),\n",
              " ('of', 'ADP'),\n",
              " (\"Atlanta's\", 'NOUN'),\n",
              " ('recent', 'ADJ'),\n",
              " ('primary', 'NOUN'),\n",
              " ('election', 'NOUN'),\n",
              " ('produced', 'VERB'),\n",
              " ('``', '.'),\n",
              " ('no', 'DET'),\n",
              " ('evidence', 'NOUN'),\n",
              " (\"''\", '.'),\n",
              " ('that', 'ADP'),\n",
              " ('any', 'DET'),\n",
              " ('irregularities', 'NOUN'),\n",
              " ('took', 'VERB'),\n",
              " ('place', 'NOUN'),\n",
              " ('.', '.')]"
            ]
          },
          "metadata": {
            "tags": []
          },
          "execution_count": 6
        }
      ]
    },
    {
      "cell_type": "markdown",
      "metadata": {
        "colab_type": "text",
        "id": "SIV2MiRxwC5Q"
      },
      "source": [
        "Все пары (слово-тег)"
      ]
    },
    {
      "cell_type": "code",
      "metadata": {
        "colab_type": "code",
        "id": "dVx9e9HcwC5R",
        "outputId": "0fe2e8a4-2b4e-48c4-d799-dc023341b4a4",
        "colab": {
          "base_uri": "https://localhost:8080/",
          "height": 34
        }
      },
      "source": [
        "brown_tagged_words = brown.tagged_words(tagset='universal')\n",
        "brown_tagged_words"
      ],
      "execution_count": 7,
      "outputs": [
        {
          "output_type": "execute_result",
          "data": {
            "text/plain": [
              "[('The', 'DET'), ('Fulton', 'NOUN'), ...]"
            ]
          },
          "metadata": {
            "tags": []
          },
          "execution_count": 7
        }
      ]
    },
    {
      "cell_type": "markdown",
      "metadata": {
        "colab_type": "text",
        "id": "y-ADby6LwC5V"
      },
      "source": [
        "Проанализируйте данные, с которыми Вы работаете. Используйте `nltk.FreqDist()` для подсчета частоты встречаемости тега и слова в нашем корпусе. Под частой элемента подразумевается кол-во этого элемента в корпусе."
      ]
    },
    {
      "cell_type": "code",
      "metadata": {
        "scrolled": false,
        "id": "JzRoXuKFcMZK",
        "colab_type": "code",
        "colab": {}
      },
      "source": [
        "# Приведем слова к нижнему регистру\n",
        "brown_tagged_words = list(map(lambda x: (x[0].lower(), x[1]), brown_tagged_words))"
      ],
      "execution_count": 0,
      "outputs": []
    },
    {
      "cell_type": "code",
      "metadata": {
        "id": "QfQLjHQOrLg7",
        "colab_type": "code",
        "colab": {}
      },
      "source": [
        "from collections import Counter"
      ],
      "execution_count": 0,
      "outputs": []
    },
    {
      "cell_type": "code",
      "metadata": {
        "colab_type": "code",
        "id": "4giWaqXjwC5W",
        "outputId": "22035a50-26c7-4c07-f068-6139d9b83088",
        "colab": {
          "base_uri": "https://localhost:8080/",
          "height": 34
        }
      },
      "source": [
        "print('Кол-во предложений: ', len(brown_tagged_sents))\n",
        "tags = [tag for (word, tag) in brown_tagged_words] # наши теги\n",
        "words = [word for (word, tag) in brown_tagged_words] # наши слова\n",
        "\n",
        "tag_count = Counter(tags)\n",
        "word_count = Counter(words)\n",
        "tag_num = pd.Series(list((tag_count.values())), index=list(tag_count.keys())).sort_values(ascending=False) # тег - кол-во тега в корпусе\n",
        "word_num = pd.Series(list((word_count.values())), index=list(word_count.keys())).sort_values(ascending=False) # слово - кол-во слова в корпусе"
      ],
      "execution_count": 10,
      "outputs": [
        {
          "output_type": "stream",
          "text": [
            "Кол-во предложений:  57340\n"
          ],
          "name": "stdout"
        }
      ]
    },
    {
      "cell_type": "code",
      "metadata": {
        "colab_type": "code",
        "id": "yfiPpCcLwC5Z",
        "scrolled": true,
        "outputId": "f3bd1211-84a0-40ca-dd65-ba87afd40381",
        "colab": {
          "base_uri": "https://localhost:8080/",
          "height": 243
        }
      },
      "source": [
        "tag_num"
      ],
      "execution_count": 11,
      "outputs": [
        {
          "output_type": "execute_result",
          "data": {
            "text/plain": [
              "NOUN    275558\n",
              "VERB    182750\n",
              ".       147565\n",
              "ADP     144766\n",
              "DET     137019\n",
              "ADJ      83721\n",
              "ADV      56239\n",
              "PRON     49334\n",
              "CONJ     38151\n",
              "PRT      29829\n",
              "NUM      14874\n",
              "X         1386\n",
              "dtype: int64"
            ]
          },
          "metadata": {
            "tags": []
          },
          "execution_count": 11
        }
      ]
    },
    {
      "cell_type": "code",
      "metadata": {
        "colab_type": "code",
        "id": "8Y1huw7TwC5b",
        "outputId": "a425a415-819e-448f-96f9-7c58c852a246",
        "colab": {
          "base_uri": "https://localhost:8080/",
          "height": 336
        }
      },
      "source": [
        "plt.figure(figsize=(12, 5))\n",
        "plt.bar(tag_num.index, tag_num.values)\n",
        "plt.title(\"Tag_frequency\")\n",
        "plt.show()"
      ],
      "execution_count": 12,
      "outputs": [
        {
          "output_type": "display_data",
          "data": {
            "image/png": "[encoded data removed]",
            "text/plain": [
              "<Figure size 864x360 with 1 Axes>"
            ]
          },
          "metadata": {
            "tags": [],
            "needs_background": "light"
          }
        }
      ]
    },
    {
      "cell_type": "code",
      "metadata": {
        "colab_type": "code",
        "id": "gBbhnJsmwC5f",
        "outputId": "bc193301-1468-43d7-9f7e-0a8ef718cfc5",
        "colab": {
          "base_uri": "https://localhost:8080/",
          "height": 121
        }
      },
      "source": [
        "word_num[:5]"
      ],
      "execution_count": 13,
      "outputs": [
        {
          "output_type": "execute_result",
          "data": {
            "text/plain": [
              "the    69971\n",
              ",      58334\n",
              ".      49346\n",
              "of     36412\n",
              "and    28853\n",
              "dtype: int64"
            ]
          },
          "metadata": {
            "tags": []
          },
          "execution_count": 13
        }
      ]
    },
    {
      "cell_type": "code",
      "metadata": {
        "colab_type": "code",
        "id": "1WmEOBMkwC5i",
        "outputId": "db5aa161-622f-4312-f9e5-d8f8fd80316f",
        "colab": {
          "base_uri": "https://localhost:8080/",
          "height": 336
        }
      },
      "source": [
        "plt.figure(figsize=(12, 5))\n",
        "plt.bar(word_num.index[:10], word_num.values[:10])\n",
        "plt.title(\"Word_frequency\")\n",
        "plt.show()"
      ],
      "execution_count": 14,
      "outputs": [
        {
          "output_type": "display_data",
          "data": {
            "image/png": "[encoded data removed]",
            "text/plain": [
              "<Figure size 864x360 with 1 Axes>"
            ]
          },
          "metadata": {
            "tags": [],
            "needs_background": "light"
          }
        }
      ]
    },
    {
      "cell_type": "markdown",
      "metadata": {
        "colab_type": "text",
        "id": "n08z2PjMwC5o"
      },
      "source": [
        "### Вопрос 1:\n",
        "* Кол-во слова `cat` в корпусе?"
      ]
    },
    {
      "cell_type": "code",
      "metadata": {
        "colab_type": "code",
        "id": "jhB7di3YwC5p",
        "outputId": "01bb3251-6eb2-45b5-c5ce-0939a1b2ba41",
        "colab": {
          "base_uri": "https://localhost:8080/",
          "height": 34
        }
      },
      "source": [
        "word_num['cat']"
      ],
      "execution_count": 15,
      "outputs": [
        {
          "output_type": "execute_result",
          "data": {
            "text/plain": [
              "23"
            ]
          },
          "metadata": {
            "tags": []
          },
          "execution_count": 15
        }
      ]
    },
    {
      "cell_type": "code",
      "metadata": {
        "id": "GBp4rzagxlNO",
        "colab_type": "code",
        "outputId": "6718a57f-24ba-42f7-8741-d6739aaeace4",
        "colab": {
          "base_uri": "https://localhost:8080/",
          "height": 34
        }
      },
      "source": [
        "tag_num.index[0]"
      ],
      "execution_count": 16,
      "outputs": [
        {
          "output_type": "execute_result",
          "data": {
            "text/plain": [
              "'NOUN'"
            ]
          },
          "metadata": {
            "tags": []
          },
          "execution_count": 16
        }
      ]
    },
    {
      "cell_type": "markdown",
      "metadata": {
        "colab_type": "text",
        "id": "UsCfVLsewC5s"
      },
      "source": [
        "### Вопрос 2:\n",
        "* Самое популярное слово с самым популярным тегом?"
      ]
    },
    {
      "cell_type": "code",
      "metadata": {
        "id": "txqQQyQ7zWe6",
        "colab_type": "code",
        "outputId": "078a1284-26f4-474f-ad7a-4dc95e9c264c",
        "colab": {
          "base_uri": "https://localhost:8080/",
          "height": 34
        }
      },
      "source": [
        "top_tag_words = [a for a,b in brown_tagged_words if b==tag_num.index[0]]\n",
        "top = Counter(top_tag_words).most_common(1)[0]\n",
        "(top[0], tag_num.index[0])"
      ],
      "execution_count": 17,
      "outputs": [
        {
          "output_type": "execute_result",
          "data": {
            "text/plain": [
              "('time', 'NOUN')"
            ]
          },
          "metadata": {
            "tags": []
          },
          "execution_count": 17
        }
      ]
    },
    {
      "cell_type": "code",
      "metadata": {
        "id": "NMS8qAzmT7Zv",
        "colab_type": "code",
        "outputId": "967513ca-5ff5-4c73-cfd6-6703ce198729",
        "colab": {
          "base_uri": "https://localhost:8080/",
          "height": 104
        }
      },
      "source": [
        "top = Counter(brown_tagged_words).most_common(1)[0][0][0]\n",
        "Counter(brown_tagged_words).most_common(5)"
      ],
      "execution_count": 18,
      "outputs": [
        {
          "output_type": "execute_result",
          "data": {
            "text/plain": [
              "[(('the', 'DET'), 69968),\n",
              " ((',', '.'), 58333),\n",
              " (('.', '.'), 49346),\n",
              " (('of', 'ADP'), 36410),\n",
              " (('and', 'CONJ'), 28850)]"
            ]
          },
          "metadata": {
            "tags": []
          },
          "execution_count": 18
        }
      ]
    },
    {
      "cell_type": "markdown",
      "metadata": {
        "colab_type": "text",
        "id": "K-OGc1rSwC5x"
      },
      "source": [
        "Впоследствии обучение моделей может занимать слишком много времени, работайте с подвыборкой, например, только текстами определенных категорий."
      ]
    },
    {
      "cell_type": "markdown",
      "metadata": {
        "colab_type": "text",
        "id": "Eb7MhxVRwC5y"
      },
      "source": [
        "Категории нашего корпуса:"
      ]
    },
    {
      "cell_type": "code",
      "metadata": {
        "colab_type": "code",
        "id": "GSiVcP1TwC51",
        "outputId": "d8aad587-65f6-4053-bd98-924c348b0616",
        "colab": {
          "base_uri": "https://localhost:8080/",
          "height": 278
        }
      },
      "source": [
        "brown.categories()"
      ],
      "execution_count": 19,
      "outputs": [
        {
          "output_type": "execute_result",
          "data": {
            "text/plain": [
              "['adventure',\n",
              " 'belles_lettres',\n",
              " 'editorial',\n",
              " 'fiction',\n",
              " 'government',\n",
              " 'hobbies',\n",
              " 'humor',\n",
              " 'learned',\n",
              " 'lore',\n",
              " 'mystery',\n",
              " 'news',\n",
              " 'religion',\n",
              " 'reviews',\n",
              " 'romance',\n",
              " 'science_fiction']"
            ]
          },
          "metadata": {
            "tags": []
          },
          "execution_count": 19
        }
      ]
    },
    {
      "cell_type": "markdown",
      "metadata": {
        "colab_type": "text",
        "id": "MjSlFatJwC53"
      },
      "source": [
        "Будем работать с категорией humor"
      ]
    },
    {
      "cell_type": "markdown",
      "metadata": {
        "colab_type": "text",
        "id": "_f1rl5x0wC55"
      },
      "source": [
        "Cделайте случайное разбиение выборки на обучение и контроль в отношении 9:1. "
      ]
    },
    {
      "cell_type": "code",
      "metadata": {
        "colab_type": "code",
        "id": "GX9t-1qowC58",
        "colab": {}
      },
      "source": [
        "brown_tagged_sents = brown.tagged_sents(tagset=\"universal\", categories='humor')\n",
        "# Приведем слова к нижнему регистру\n",
        "my_brown_tagged_sents = []\n",
        "for sent in brown_tagged_sents:\n",
        "    my_brown_tagged_sents.append(list(map(lambda x: (x[0].lower(), x[1]), sent)))\n",
        "\n",
        "my_brown_tagged_sents = np.array(my_brown_tagged_sents)\n",
        "np.random.seed(2)\n",
        "random_index = np.random.choice([0, 1], p=[0.1, 0.9], size=my_brown_tagged_sents.shape[0]).astype('bool')\n",
        "train_sents = my_brown_tagged_sents[random_index]\n",
        "test_sents = my_brown_tagged_sents[(1 - random_index).astype('bool')]"
      ],
      "execution_count": 0,
      "outputs": []
    },
    {
      "cell_type": "code",
      "metadata": {
        "colab_type": "code",
        "id": "pXkVwUjYwC5-",
        "outputId": "1246fd56-56b9-4467-ca1b-5633d765ad4f",
        "colab": {
          "base_uri": "https://localhost:8080/",
          "height": 34
        }
      },
      "source": [
        "len(train_sents)"
      ],
      "execution_count": 21,
      "outputs": [
        {
          "output_type": "execute_result",
          "data": {
            "text/plain": [
              "952"
            ]
          },
          "metadata": {
            "tags": []
          },
          "execution_count": 21
        }
      ]
    },
    {
      "cell_type": "code",
      "metadata": {
        "colab_type": "code",
        "id": "JQMjzJ2YwC6C",
        "outputId": "b704bd3d-0a41-42a6-8f2d-64aed8f2c7c6",
        "colab": {
          "base_uri": "https://localhost:8080/",
          "height": 34
        }
      },
      "source": [
        "len(test_sents)"
      ],
      "execution_count": 22,
      "outputs": [
        {
          "output_type": "execute_result",
          "data": {
            "text/plain": [
              "101"
            ]
          },
          "metadata": {
            "tags": []
          },
          "execution_count": 22
        }
      ]
    },
    {
      "cell_type": "markdown",
      "metadata": {
        "colab_type": "text",
        "id": "_rEasLVcwC6G"
      },
      "source": [
        "### Метод максимального правдоподобия для обучения модели\n",
        "\n",
        "* $\\normalsize S = s_0, s_1, ..., s_N$ - скрытые состояния, то есть различные теги\n",
        "* $\\normalsize O = o_0, o_1, ..., o_M$ - различные слова\n",
        "* $\\normalsize a_{i,j} = p(s_j|s_i)$ - вероятность того, что, находясь в скрытом состоянии $s_i$, мы попадем в состояние $s_j$ (элемент матрицы $A$)\n",
        "* $\\normalsize b_{k,j}=p(o_k|s_j)$ - вероятность того, что при скрытом состоянии $s_j$ находится слово $o_k$(элемент матрицы $B$)\n",
        "\n",
        "$$\\normalsize x_t \\in O, y_t \\in S$$\n",
        "$\\normalsize (x_t, y_t)$ - слово и тег, стоящие на месте $t$ $\\Rightarrow$ \n",
        "* $\\normalsize X$ - последовательность слов\n",
        "* $\\normalsize Y$ - последовательность тегов\n",
        "\n",
        "Требуется построить скрытую марковскую модель (class HiddenMarkovModel) и написать метод fit для настройки всех её параметров с помощью оценок максимального правдоподобия по размеченным данным (последовательности пар слово+тег):\n",
        "\n",
        "- Вероятности переходов между скрытыми состояниями $p(y_t | y_{t - 1})$ посчитайте на основе частот биграмм POS-тегов.\n",
        "\n",
        "\n",
        "- Вероятности эмиссий наблюдаемых состояний $p(x_t | y_t)$ посчитайте на основе частот \"POS-тег - слово\".\n",
        "\n",
        "\n",
        "- Распределение вероятностей начальных состояний $p(y_0)$ задайте равномерным.\n",
        "\n",
        "Пример $X = [x_0, x_1], Y = [y_0, y_1]$:<br><br>\n",
        "$$p(X, Y) = p(x_0, x_1, y_0, y_1) = p(y_0) \\cdot p(x_0, x_1, y_1 | y_0) = p(y_0) \\cdot p(x_0 | y_0) \\cdot\n",
        "p(x_1, y_1 | x_0, y_0) = \\\\ = p(y_0) \\cdot p(x_0 | y_0) \\cdot p(y_1 | x_0, y_0) \\cdot p(x_1 | x_0, y_0, y_1)\n",
        "= (\\text{в силу условий наши модели}) = p(y_0) \\cdot p(x_0 | y_0) \\cdot p(y_1 | y_0) \\cdot p(x_1 | y_1) \\Rightarrow$$ <br>\n",
        "Для последовательности длины $n + 1$:<br>\n",
        "$$p(X, Y) = p(x_0 ... x_{n - 1}, y_0 ... y_{n - 1}) \\cdot p(y_n | y_{n - 1}) \\cdot p(x_n | y_n)$$"
      ]
    },
    {
      "cell_type": "markdown",
      "metadata": {
        "colab_type": "text",
        "id": "tysPoe5rwC6I"
      },
      "source": [
        "#### Алгоритм Витерби для применения модели\n",
        "\n",
        "\n",
        "Требуется написать метод .predict для определения частей речи на тестовой выборке. Чтобы использовать обученную модель на новых данных, необходимо реализовать алгоритм Витерби. Это алгоритм динамиеского программирования, с помощью которого мы будем находить наиболее вероятную последовательность скрытых состояний модели для фиксированной последовательности слов:\n",
        "\n",
        "$$ \\hat{Y} = \\arg \\max_{Y} p(Y|X) = \\arg \\max_{Y} p(Y, X) $$\n",
        "\n",
        "Пусть $\\normalsize Q_{t,s}$ - самая вероятная последовательность скрытых состояний длины $t$ с окончанием в состоянии $s$. $\\normalsize q_{t, s}$ - вероятность этой последовательности.\n",
        "$$(1)\\: \\normalsize q_{t,s} = \\max_{s'} q_{t - 1, s'} \\cdot p(s | s') \\cdot p(o_t | s)$$\n",
        "$\\normalsize Q_{t,s}$ можно восстановить по argmax-ам."
      ]
    },
    {
      "cell_type": "code",
      "metadata": {
        "colab_type": "code",
        "id": "QpEXdhOfwC6J",
        "colab": {}
      },
      "source": [
        "class HiddenMarkovModel:    \n",
        "    def __init__(self):\n",
        "        pass\n",
        "        \n",
        "    def fit(self, train_tokens_tags_list):\n",
        "        \"\"\"\n",
        "        train_tokens_tags_list: массив предложений пар слово-тег (выборка для train) \n",
        "        \"\"\"\n",
        "        tags = [tag for sent in train_tokens_tags_list\n",
        "                for (word, tag) in sent]\n",
        "        words = [word for sent in train_tokens_tags_list\n",
        "                 for (word, tag) in sent]\n",
        "\n",
        "        \n",
        "        \n",
        "        tag_count = Counter(tags)\n",
        "        tag_num = pd.Series(list((tag_count.values())), \n",
        "                            index=list(tag_count.keys())).sort_values(ascending=False) \n",
        "\n",
        "        word_count = Counter(words)\n",
        "        word_num = pd.Series(list((word_count.values())), \n",
        "                             index=list(word_count.keys())).sort_values(ascending=False)\n",
        "         \n",
        "        self.tags = tag_num.index\n",
        "        self.words = word_num.index\n",
        "        \n",
        "        A = pd.DataFrame({'{}'.format(tag) : [0] * len(tag_num) for tag in tag_num.index}, index=tag_num.index)\n",
        "        B = pd.DataFrame({'{}'.format(tag) : [0] * len(word_num) for tag in tag_num.index}, index=word_num.index)\n",
        "        \n",
        "        # Вычисляем матрицу A и B по частотам слов и тегов\n",
        "        \n",
        "        # sent - предложение\n",
        "        # sent[i][0] - i слово в этом предложении, sent[i][1] - i тег в этом предложении\n",
        "        for sent in train_tokens_tags_list:\n",
        "            for i in range(len(sent)):\n",
        "                B.loc[sent[i][0],sent[i][1]] += 1 # текущая i-пара слово-тег (обновите матрицу B аналогично A)\n",
        "                if len(sent) - 1 != i: # для последнего тега нет следующего тега\n",
        "                    A.loc[sent[i][1], sent[i + 1][1]] += 1 # пара тег-тег\n",
        "                \n",
        "        \n",
        "        # переходим к вероятностям\n",
        "        \n",
        "        # нормируем по строке, то есть по всем всевозможным следующим тегам\n",
        "        A = A.divide(A.sum(axis=1), axis=0)\n",
        "        \n",
        "        # нормируем по столбцу, то есть по всем всевозможным текущим словам\n",
        "        B = B / np.sum(B, axis=0)\n",
        "        \n",
        "        self.A = A\n",
        "        self.B = B\n",
        "        \n",
        "        return self\n",
        "        \n",
        "    \n",
        "    def predict(self, test_tokens_list):\n",
        "        \"\"\"\n",
        "        test_tokens_list : массив предложений пар слово-тег (выборка для test)\n",
        "        \"\"\"\n",
        "        predict_tags = OrderedDict({i : np.array([]) for i in range(len(test_tokens_list))})\n",
        "        \n",
        "        for i_sent in range(len(test_tokens_list)):\n",
        "            \n",
        "            current_sent = test_tokens_list[i_sent] # текущее предложение\n",
        "            len_sent = len(current_sent) # длина предложения \n",
        "            \n",
        "            q = np.zeros(shape=(len_sent + 1, len(self.tags)))\n",
        "            q[0] = 1 # нулевое состояние (равномерная инициализация по всем s)\n",
        "            back_point = np.zeros(shape=(len_sent + 1, len(self.tags))) # # argmax\n",
        "            \n",
        "            for t in range(len_sent):\n",
        "                # если мы не встречали такое слово в обучении, то вместо него будет \n",
        "                # самое популярное слово с самым популярным тегом (вопрос 2)\n",
        "                if current_sent[t] not in self.words:\n",
        "                    current_sent[t] = 'time'\n",
        "\n",
        "                # через max выбираем следующий тег\n",
        "                for i_s in range(len(self.tags)):\n",
        "                    \n",
        "                    s = self.tags[i_s]\n",
        "                    \n",
        "                    # формула (1)\n",
        "                    try:\n",
        "                        q[t + 1][i_s] = np.max(q[t] *\n",
        "                            self.A.loc[:, s] * \n",
        "                            self.B.loc[current_sent[t], s])\n",
        "                    except KeyError:\n",
        "                        print(\"Stack Trace: \")\n",
        "                        print(current_sent[t], '\\n', s, '\\n', i_s, '\\n\\n')\n",
        "                        print(self.A, self.B)\n",
        "                    # argmax формула(1)\n",
        "                    \n",
        "                    # argmax, чтобы восстановить последовательность тегов\n",
        "                    back_point[t + 1][i_s] = (q[t] * self.A.loc[:, s] * \n",
        "                        self.B.loc[current_sent[t],s]).reset_index()[s].idxmax() # индекс \n",
        "                    \n",
        "            back_point = back_point.astype('int')\n",
        "            \n",
        "            # выписываем теги, меняя порядок на реальный\n",
        "            back_tag = deque()\n",
        "            current_tag = np.argmax(q[len_sent])\n",
        "            for t in range(len_sent, 0, -1):\n",
        "                back_tag.appendleft(self.tags[current_tag])\n",
        "                current_tag = back_point[t, current_tag]\n",
        "             \n",
        "            predict_tags[i_sent] = np.array(back_tag)\n",
        "        \n",
        "        \n",
        "        return predict_tags                 "
      ],
      "execution_count": 0,
      "outputs": []
    },
    {
      "cell_type": "markdown",
      "metadata": {
        "colab_type": "text",
        "id": "y0BLgsWkwC6M"
      },
      "source": [
        "Обучите скрытую марковскую модель:"
      ]
    },
    {
      "cell_type": "code",
      "metadata": {
        "colab_type": "code",
        "id": "ZcSoyUAxwC6M",
        "outputId": "f669c040-63ba-4d1a-e3b8-37df6265c3a1",
        "colab": {
          "base_uri": "https://localhost:8080/",
          "height": 34
        }
      },
      "source": [
        "my_model = HiddenMarkovModel()\n",
        "my_model.fit(train_sents)"
      ],
      "execution_count": 24,
      "outputs": [
        {
          "output_type": "execute_result",
          "data": {
            "text/plain": [
              "<__main__.HiddenMarkovModel at 0x7f28bcb53358>"
            ]
          },
          "metadata": {
            "tags": []
          },
          "execution_count": 24
        }
      ]
    },
    {
      "cell_type": "code",
      "metadata": {
        "id": "t9lWbk2dM5kj",
        "colab_type": "code",
        "colab": {}
      },
      "source": [
        "input_test = np.array([[item[0] for item in sent] for sent in test_sents])\n",
        "target_test =np.array([[item[1] for item in sent] for sent in test_sents])"
      ],
      "execution_count": 0,
      "outputs": []
    },
    {
      "cell_type": "code",
      "metadata": {
        "id": "t0CK5qUdbGpE",
        "colab_type": "code",
        "colab": {
          "base_uri": "https://localhost:8080/",
          "height": 228
        },
        "outputId": "2993882f-cee8-43e6-a9a6-d8e0eda9d937"
      },
      "source": [
        "target_test[:10]"
      ],
      "execution_count": 26,
      "outputs": [
        {
          "output_type": "execute_result",
          "data": {
            "text/plain": [
              "array([list(['ADP', 'PRON', 'VERB', 'ADP', 'NOUN', '.', 'VERB', 'PRON', 'DET', 'NOUN', 'NOUN', '.', 'CONJ', 'ADV', 'ADV', '.', 'ADP', 'NUM', 'NOUN', '.', '.']),\n",
              "       list(['PRON', 'VERB', 'VERB', 'ADP', 'NOUN', 'NOUN', 'ADP', 'DET', 'NOUN', 'ADP', 'DET', 'NOUN', 'NOUN', 'VERB', 'VERB', 'NOUN', '.']),\n",
              "       list(['DET', 'NOUN', 'VERB', '.']),\n",
              "       list(['DET', 'NOUN', 'NOUN', 'VERB', 'ADP', 'PRON', 'ADP', 'DET', 'NOUN', 'PRT', 'VERB', 'DET', 'NOUN', 'ADP', 'DET', 'NOUN', '.']),\n",
              "       list(['VERB', 'DET', 'NOUN', 'ADP', 'DET', 'NOUN', 'ADP', 'DET', 'NOUN', '.', 'PRON', 'VERB', 'PRT', '.', 'VERB', 'PRT', 'DET', 'ADJ', 'NOUN', 'ADP', 'DET', 'NOUN', 'ADP', 'NUM', 'ADJ', 'NOUN', 'NOUN', '.', 'CONJ', 'VERB', 'DET', 'NOUN', '.']),\n",
              "       list(['DET', 'NOUN', 'NOUN', 'VERB', '.']),\n",
              "       list(['ADP', 'ADJ', 'NOUN', 'PRON', 'ADV', 'VERB', 'PRT', 'DET', 'NOUN', '.', 'DET', 'NOUN', 'DET', 'ADV', 'ADV', 'ADP', 'DET', 'NOUN', '.']),\n",
              "       list(['DET', 'NOUN', 'VERB', 'ADP', 'NOUN', 'NUM', 'NOUN', 'VERB', 'ADP', 'NOUN', 'NUM', 'NOUN', 'ADP', 'DET', '.']),\n",
              "       list(['PRON', 'VERB', 'ADJ', 'CONJ', 'ADJ', 'ADP', 'PRON', '.', 'ADV', 'ADJ', '.']),\n",
              "       list(['NUM', 'NOUN', 'ADP', 'DET', 'NOUN', 'ADV', '.', 'PRT', 'VERB', 'VERB', 'DET', 'NOUN', 'NOUN', 'ADP', 'DET', 'NOUN', 'ADP', 'DET', 'NOUN', 'NOUN', '.'])],\n",
              "      dtype=object)"
            ]
          },
          "metadata": {
            "tags": []
          },
          "execution_count": 26
        }
      ]
    },
    {
      "cell_type": "code",
      "metadata": {
        "id": "N916Fz49RTaT",
        "colab_type": "code",
        "colab": {}
      },
      "source": [
        "output = my_model.predict(input_test)"
      ],
      "execution_count": 0,
      "outputs": []
    },
    {
      "cell_type": "code",
      "metadata": {
        "id": "icqMF3HUmVrP",
        "colab_type": "code",
        "colab": {
          "base_uri": "https://localhost:8080/",
          "height": 69
        },
        "outputId": "40cd3f01-3727-48de-a5f4-b43cc85f1b94"
      },
      "source": [
        "[output[0] == target_test[0]]"
      ],
      "execution_count": 31,
      "outputs": [
        {
          "output_type": "execute_result",
          "data": {
            "text/plain": [
              "[array([ True,  True,  True, False,  True,  True, False,  True,  True,\n",
              "         True,  True,  True,  True,  True,  True,  True,  True,  True,\n",
              "         True,  True,  True])]"
            ]
          },
          "metadata": {
            "tags": []
          },
          "execution_count": 31
        }
      ]
    },
    {
      "cell_type": "markdown",
      "metadata": {
        "colab_type": "text",
        "id": "FeVNt19kwC6P"
      },
      "source": [
        "Проверьте работу реализованного алгоритма на следующих модельных примерах, проинтерпретируйте результат.\n",
        "\n",
        "- 'He can stay'\n",
        "- 'a cat and a dog'\n",
        "- 'I have a television'\n",
        "- 'My favourite character'"
      ]
    },
    {
      "cell_type": "code",
      "metadata": {
        "colab_type": "code",
        "id": "cMJErf7NwC6Q",
        "colab": {
          "base_uri": "https://localhost:8080/",
          "height": 86
        },
        "outputId": "32d32d1f-28cb-4172-fb76-13f8d0d9fa29"
      },
      "source": [
        "sents = [['He', 'can', 'stay'], ['a', 'cat', 'and', 'a', 'dog'], ['I', 'have', 'a', 'television'],\n",
        "         ['My', 'favourite', 'character']]\n",
        "my_model.predict(sents)"
      ],
      "execution_count": 28,
      "outputs": [
        {
          "output_type": "execute_result",
          "data": {
            "text/plain": [
              "OrderedDict([(0, array(['NOUN', 'VERB', 'VERB'], dtype='<U4')),\n",
              "             (1, array(['DET', 'NOUN', 'CONJ', 'DET', 'NOUN'], dtype='<U4')),\n",
              "             (2, array(['NOUN', 'VERB', 'DET', 'NOUN'], dtype='<U4')),\n",
              "             (3, array(['NOUN', 'NOUN', 'NOUN'], dtype='<U4'))])"
            ]
          },
          "metadata": {
            "tags": []
          },
          "execution_count": 28
        }
      ]
    },
    {
      "cell_type": "markdown",
      "metadata": {
        "colab_type": "text",
        "id": "suDCwbGMwC6T"
      },
      "source": [
        "### Вопрос 3:\n",
        "* Какой тег вы получили для слова `can`?"
      ]
    },
    {
      "cell_type": "code",
      "metadata": {
        "colab_type": "code",
        "id": "ReHeG3IjwC6U",
        "colab": {}
      },
      "source": [
        "# VERB"
      ],
      "execution_count": 0,
      "outputs": []
    },
    {
      "cell_type": "markdown",
      "metadata": {
        "colab_type": "text",
        "id": "ObAslurlwC6X"
      },
      "source": [
        "### Вопрос 4:\n",
        "* Какой тег вы получили для слова `favourite`?"
      ]
    },
    {
      "cell_type": "code",
      "metadata": {
        "colab_type": "code",
        "id": "94crVrrXwC6Y",
        "colab": {}
      },
      "source": [
        "# NOUN"
      ],
      "execution_count": 0,
      "outputs": []
    },
    {
      "cell_type": "markdown",
      "metadata": {
        "colab_type": "text",
        "id": "YPC4NZ4HwC6a"
      },
      "source": [
        "Примените модель к отложенной выборке Брауновского корпуса и подсчитайте точность определения тегов (accuracy). Сделайте выводы. "
      ]
    },
    {
      "cell_type": "code",
      "metadata": {
        "colab_type": "code",
        "id": "-7aioBc1wC6b",
        "colab": {}
      },
      "source": [
        "def accuracy_score(model, sents):\n",
        "    true_pred = 0\n",
        "    num_pred = 0\n",
        "\n",
        "    for s in sents:\n",
        "        words = np.array([item[0] for item in s])\n",
        "        tags = np.array([item[1] for item in s])\n",
        "\n",
        "        outputs = model.predict([words])[0]\n",
        "\n",
        "        true_pred += np.sum([outputs == tags])\n",
        "        num_pred += len(outputs)\n",
        "    print(\"Accuracy:\", true_pred / num_pred * 100, '%')"
      ],
      "execution_count": 0,
      "outputs": []
    },
    {
      "cell_type": "code",
      "metadata": {
        "id": "Y3qBYpWon5cL",
        "colab_type": "code",
        "colab": {
          "base_uri": "https://localhost:8080/",
          "height": 69
        },
        "outputId": "c64ffd10-81dd-4362-b4ad-dff5bfa12406"
      },
      "source": [
        "words = np.array([item[0] for item in test_sents[0]])\n",
        "words"
      ],
      "execution_count": 48,
      "outputs": [
        {
          "output_type": "execute_result",
          "data": {
            "text/plain": [
              "array(['for', 'it', 'seems', 'that', 'barco', ',', 'fancying', 'himself',\n",
              "       'a', \"ladies'\", 'man', '(', 'and', 'why', 'not', ',', 'after',\n",
              "       'seven', 'marriages', '?', '?'], dtype='<U9')"
            ]
          },
          "metadata": {
            "tags": []
          },
          "execution_count": 48
        }
      ]
    },
    {
      "cell_type": "code",
      "metadata": {
        "id": "QG1EcpMen-Sk",
        "colab_type": "code",
        "colab": {
          "base_uri": "https://localhost:8080/",
          "height": 86
        },
        "outputId": "1af8d3b8-e248-4a6e-b8fc-fc39351f6017"
      },
      "source": [
        "my_model.predict([words])"
      ],
      "execution_count": 52,
      "outputs": [
        {
          "output_type": "execute_result",
          "data": {
            "text/plain": [
              "OrderedDict([(0,\n",
              "              array(['ADP', 'PRON', 'VERB', 'DET', 'NOUN', '.', 'NOUN', 'PRON', 'DET',\n",
              "                     'NOUN', 'NOUN', '.', 'CONJ', 'ADV', 'ADV', '.', 'ADP', 'NUM',\n",
              "                     'NOUN', '.', '.'], dtype='<U4'))])"
            ]
          },
          "metadata": {
            "tags": []
          },
          "execution_count": 52
        }
      ]
    },
    {
      "cell_type": "code",
      "metadata": {
        "id": "roesKrPCcMbp",
        "colab_type": "code",
        "colab": {
          "base_uri": "https://localhost:8080/",
          "height": 34
        },
        "outputId": "69d9153e-a487-4cce-a6ca-538ad46d34df"
      },
      "source": [
        "accuracy_score(my_model, test_sents)"
      ],
      "execution_count": 54,
      "outputs": [
        {
          "output_type": "stream",
          "text": [
            "Accuracy: 89.52007835455436 %\n"
          ],
          "name": "stdout"
        }
      ]
    },
    {
      "cell_type": "markdown",
      "metadata": {
        "colab_type": "text",
        "id": "ff_W7J8XwC6e"
      },
      "source": [
        "### Вопрос 5:\n",
        "* Какое качество вы получили(округлите до одного знака после запятой)?"
      ]
    },
    {
      "cell_type": "code",
      "metadata": {
        "colab_type": "code",
        "id": "ptvlpc-6wC6f",
        "colab": {}
      },
      "source": [
        "# 89.5"
      ],
      "execution_count": 0,
      "outputs": []
    },
    {
      "cell_type": "markdown",
      "metadata": {
        "colab_type": "text",
        "id": "FpAgfZRTwC6h"
      },
      "source": [
        "## DefaultTagger"
      ]
    },
    {
      "cell_type": "markdown",
      "metadata": {
        "colab_type": "text",
        "id": "9b4cPKyiwC6j"
      },
      "source": [
        "### Вопрос 6:\n",
        "* Какое качество вы бы получили, если бы предсказывали любой тег, как самый популярный тег на выборке train(округлите до одного знака после запятой)?"
      ]
    },
    {
      "cell_type": "code",
      "metadata": {
        "id": "pM28MT0gcMb2",
        "colab_type": "code",
        "colab": {
          "base_uri": "https://localhost:8080/",
          "height": 34
        },
        "outputId": "fbc672ae-1ed4-411d-c2ac-7c6ae59f3b0d"
      },
      "source": [
        "true_pred = 0\n",
        "num_pred = 0\n",
        "\n",
        "for sent in test_sents:\n",
        "    tags = np.array([tag for (word, tag) in sent])\n",
        "    words = np.array([word for (word, tag) in sent])\n",
        "\n",
        "    #outputs = model.predict([words])[0]\n",
        "\n",
        "    true_pred += np.sum(['NOUN'] * len(words) == tags)\n",
        "    num_pred += len(words)\n",
        "print(\"Accuracy:\", true_pred / num_pred * 100, '%')"
      ],
      "execution_count": 55,
      "outputs": [
        {
          "output_type": "stream",
          "text": [
            "Accuracy: 22.428991185112636 %\n"
          ],
          "name": "stdout"
        }
      ]
    },
    {
      "cell_type": "code",
      "metadata": {
        "id": "A4C4ivVzooqT",
        "colab_type": "code",
        "colab": {}
      },
      "source": [
        "# 22.4"
      ],
      "execution_count": 0,
      "outputs": []
    },
    {
      "cell_type": "markdown",
      "metadata": {
        "colab_type": "text",
        "id": "Td-0Pe0vwC6k"
      },
      "source": [
        "Вы можете испоьзовать DefaultTagger(метод tag для предсказания частей речи предложения) или можете преобразовать код выше"
      ]
    },
    {
      "cell_type": "code",
      "metadata": {
        "colab_type": "code",
        "id": "NfZYlMxJwC6m",
        "colab": {}
      },
      "source": [
        "from nltk.tag import DefaultTagger\n",
        "default_tagger = DefaultTagger('NOUN')"
      ],
      "execution_count": 0,
      "outputs": []
    },
    {
      "cell_type": "code",
      "metadata": {
        "id": "9CXKibo_cMcB",
        "colab_type": "code",
        "colab": {
          "base_uri": "https://localhost:8080/",
          "height": 34
        },
        "outputId": "c0029415-dda3-472f-a1a4-0f956c003e95"
      },
      "source": [
        "true_pred = 0\n",
        "num_pred = 0\n",
        "\n",
        "for sent in test_sents:\n",
        "    tags = np.array([tag for (word, tag) in sent])\n",
        "    words = np.array([word for (word, tag) in sent])\n",
        "    \n",
        "    tagged_sent = default_tagger.tag(words)\n",
        "    outputs = [tag for token, tag in tagged_sent]\n",
        "    \n",
        "    true_pred += np.sum(outputs == tags)\n",
        "    num_pred += len(words)\n",
        "    \n",
        "print(\"Accuracy:\", true_pred / num_pred * 100, '%')"
      ],
      "execution_count": 61,
      "outputs": [
        {
          "output_type": "stream",
          "text": [
            "Accuracy: 22.428991185112636 %\n"
          ],
          "name": "stdout"
        }
      ]
    },
    {
      "cell_type": "markdown",
      "metadata": {
        "colab_type": "text",
        "id": "lz7Q3BfbwC6o"
      },
      "source": [
        "## Модель Стенфорда"
      ]
    },
    {
      "cell_type": "markdown",
      "metadata": {
        "colab_type": "text",
        "id": "eKYPKJYLwC6p"
      },
      "source": [
        "Скачайте предобученную модель от Стэнфорда: https://nlp.stanford.edu/software/tagger.shtml и примените к тестовым данным. \n",
        "Не забудьте преобразовать систему тэгов из 'en-ptb' в 'universal' с помощью функции map_tag."
      ]
    },
    {
      "cell_type": "code",
      "metadata": {
        "colab_type": "code",
        "id": "yW-PR54QwC6p",
        "scrolled": false,
        "colab": {}
      },
      "source": [
        "from nltk.tag.stanford import StanfordPOSTagger\n",
        "from nltk.tag.mapping import map_tag\n",
        "\n",
        "# используйте путь до jar и до model\n",
        "jar = './stanford-postagger-2018-10-16/stanford-postagger-3.9.2.jar'\n",
        "model = './stanford-postagger-2018-10-16/models/english-bidirectional-distsim.tagger'\n",
        "stanford_tagger = StanfordPOSTagger(model, jar, encoding='utf8')\n",
        "\n",
        "# проверим на предложении\n",
        "tagged_sent = stanford_tagger.tag(['I', 'bear', 'a', 'bag'])\n",
        "print('Ответ: ', [map_tag('en-ptb', 'universal', tag) for token, tag in tagged_sent])"
      ],
      "execution_count": 0,
      "outputs": []
    },
    {
      "cell_type": "markdown",
      "metadata": {
        "colab_type": "text",
        "id": "i1z8x4vvwC6s"
      },
      "source": [
        "### Вопрос 7:\n",
        "* Какое качество вы получили на модели Стенфорда(округлите до одного знака после запятой)?"
      ]
    },
    {
      "cell_type": "code",
      "metadata": {
        "colab_type": "code",
        "id": "GBd3RgqVwC6s",
        "colab": {}
      },
      "source": [
        "true_pred = 0\n",
        "num_pred = 0\n",
        "\n",
        "for sent in test_sents:\n",
        "    tags = np.array([tag for (word, tag) in sent])\n",
        "    words = np.array([word for (word, tag) in sent])\n",
        "    \n",
        "    tagged_sent = stanford_tagger.tag(words)\n",
        "    outputs = [map_tag('en-ptb', 'universal', tag) for token, tag in tagged_sent]\n",
        "    \n",
        "    true_pred += np.sum(outputs == tags)\n",
        "    num_pred += len(words)\n",
        "    \n",
        "print(\"Accuracy:\", true_pred / num_pred * 100, '%')"
      ],
      "execution_count": 0,
      "outputs": []
    },
    {
      "cell_type": "markdown",
      "metadata": {
        "id": "5w1W5hSkcMcV",
        "colab_type": "text"
      },
      "source": [
        "## BiLSTMTagger"
      ]
    },
    {
      "cell_type": "markdown",
      "metadata": {
        "id": "SKrdRnpscMcV",
        "colab_type": "text"
      },
      "source": [
        "Для того, чтобы успешнее справиться с дальнейшей частью, вам лучше обратиться к семинару 3(Language Model)"
      ]
    },
    {
      "cell_type": "markdown",
      "metadata": {
        "id": "mm1-S3t2cMcW",
        "colab_type": "text"
      },
      "source": [
        "### Подготовка данных"
      ]
    },
    {
      "cell_type": "markdown",
      "metadata": {
        "id": "GayTl7mUcMcX",
        "colab_type": "text"
      },
      "source": [
        "Изменим структуру данных"
      ]
    },
    {
      "cell_type": "code",
      "metadata": {
        "colab_type": "code",
        "id": "CnXcI64fxoj4",
        "scrolled": false,
        "colab": {}
      },
      "source": [
        "pos_data = [list(zip(*sent)) for sent in brown_tagged_sents]\n",
        "print(pos_data[0])"
      ],
      "execution_count": 0,
      "outputs": []
    },
    {
      "cell_type": "markdown",
      "metadata": {
        "id": "DpRE3c-3cMcc",
        "colab_type": "text"
      },
      "source": [
        "До этого мы писали много кода сами, теперь пора эксплуатировать pytorch"
      ]
    },
    {
      "cell_type": "code",
      "metadata": {
        "colab_type": "code",
        "id": "gvFlzrYnxokE",
        "colab": {}
      },
      "source": [
        "from torchtext.data import Field, BucketIterator\n",
        "import torchtext\n",
        "\n",
        "# наши поля\n",
        "WORD = Field(lower=True)\n",
        "TAG = Field(unk_token=None) # все токены нам извсетны\n",
        "\n",
        "# создаем примеры\n",
        "examples = []\n",
        "for words, tags in pos_data:\n",
        "    examples.append(torchtext.data.Example.fromlist([list(words), list(tags)], fields=[('words', WORD), ('tags', TAG)]))"
      ],
      "execution_count": 0,
      "outputs": []
    },
    {
      "cell_type": "markdown",
      "metadata": {
        "id": "nUhTrWCWcMcj",
        "colab_type": "text"
      },
      "source": [
        "Теперь формируем наш датасет"
      ]
    },
    {
      "cell_type": "code",
      "metadata": {
        "colab_type": "code",
        "id": "LGKkbZUIxokO",
        "scrolled": true,
        "colab": {}
      },
      "source": [
        "# кладем примеры в наш датасет\n",
        "dataset = torchtext.data.Dataset(examples, fields=[('words', WORD), ('tags', TAG)])\n",
        "\n",
        "train_data, valid_data, test_data = dataset.split(split_ratio=[0.8, 0.1, 0.1])\n",
        "\n",
        "print(f\"Number of training examples: {len(train_data.examples)}\")\n",
        "print(f\"Number of validation examples: {len(valid_data.examples)}\")\n",
        "print(f\"Number of testing examples: {len(test_data.examples)}\")"
      ],
      "execution_count": 0,
      "outputs": []
    },
    {
      "cell_type": "markdown",
      "metadata": {
        "id": "T89unpppcMcp",
        "colab_type": "text"
      },
      "source": [
        "Построим словари. Параметр `min_freq` выберете сами. При построении словаря испольузем только train"
      ]
    },
    {
      "cell_type": "code",
      "metadata": {
        "colab_type": "code",
        "id": "tZwkwhlrxoka",
        "scrolled": true,
        "colab": {}
      },
      "source": [
        "WORD.build_vocab('''your code''', min_freq='''your code''')\n",
        "TAG.build_vocab('''your code''')\n",
        "\n",
        "print(f\"Unique tokens in source (ru) vocabulary: {len(WORD.vocab)}\")\n",
        "print(f\"Unique tokens in target (en) vocabulary: {len(TAG.vocab)}\")\n",
        "\n",
        "print(WORD.vocab.itos[::200])\n",
        "print(TAG.vocab.itos)"
      ],
      "execution_count": 0,
      "outputs": []
    },
    {
      "cell_type": "code",
      "metadata": {
        "colab_type": "code",
        "id": "vjn07NP-xokl",
        "scrolled": true,
        "colab": {}
      },
      "source": [
        "print(vars(train_data.examples[9]))"
      ],
      "execution_count": 0,
      "outputs": []
    },
    {
      "cell_type": "markdown",
      "metadata": {
        "id": "LxgkU4cZcMcz",
        "colab_type": "text"
      },
      "source": [
        "Посмотрим с насколько большими предложениями мы имеем дело"
      ]
    },
    {
      "cell_type": "code",
      "metadata": {
        "colab_type": "code",
        "id": "dVpMi1_0xoku",
        "scrolled": true,
        "colab": {}
      },
      "source": [
        "length = map(len, [vars(x)['words'] for x in train_data.examples])\n",
        "\n",
        "plt.figure(figsize=[8, 4])\n",
        "plt.title(\"Length distribution in Train data\")\n",
        "plt.hist(list(length), bins=20);"
      ],
      "execution_count": 0,
      "outputs": []
    },
    {
      "cell_type": "markdown",
      "metadata": {
        "id": "yi28N2RBcMc5",
        "colab_type": "text"
      },
      "source": [
        "Для обучения `BiLSTM` лучше использовать colab"
      ]
    },
    {
      "cell_type": "code",
      "metadata": {
        "colab_type": "code",
        "id": "LAGSrqWsxok2",
        "scrolled": true,
        "colab": {}
      },
      "source": [
        "import torch\n",
        "from torch import nn\n",
        "import torch.nn.functional as F\n",
        "import torch.optim as optim\n",
        "\n",
        "device = torch.device('cuda' if torch.cuda.is_available() else 'cpu')\n",
        "device"
      ],
      "execution_count": 0,
      "outputs": []
    },
    {
      "cell_type": "markdown",
      "metadata": {
        "id": "2DSWm0UjcMc-",
        "colab_type": "text"
      },
      "source": [
        "Для более быстрого и устойчивого обучения сгруппируем наши данные по батчам"
      ]
    },
    {
      "cell_type": "code",
      "metadata": {
        "colab_type": "code",
        "id": "dmwAyhNgxok_",
        "colab": {}
      },
      "source": [
        "# бьем нашу выборку на батч, не забывая сначала отсортировать выборку по длине\n",
        "def _len_sort_key(x):\n",
        "    return len(x.words)\n",
        "\n",
        "BATCH_SIZE = 32\n",
        "\n",
        "train_iterator, valid_iterator, test_iterator = BucketIterator.splits(\n",
        "    (train_data, valid_data, test_data), \n",
        "    batch_size = BATCH_SIZE, \n",
        "    device = device,\n",
        "    sort_key=_len_sort_key\n",
        ")"
      ],
      "execution_count": 0,
      "outputs": []
    },
    {
      "cell_type": "code",
      "metadata": {
        "colab_type": "code",
        "id": "6aTjW00nxolI",
        "colab": {}
      },
      "source": [
        "# посморим  на количество батчей\n",
        "list(map(len, [train_iterator, valid_iterator, test_iterator]))"
      ],
      "execution_count": 0,
      "outputs": []
    },
    {
      "cell_type": "markdown",
      "metadata": {
        "id": "zyLQsizhcMdI",
        "colab_type": "text"
      },
      "source": [
        "### Модель и её обучение"
      ]
    },
    {
      "cell_type": "markdown",
      "metadata": {
        "id": "-i9oHzcrcMdJ",
        "colab_type": "text"
      },
      "source": [
        "Инициализируем нашу модель"
      ]
    },
    {
      "cell_type": "code",
      "metadata": {
        "colab_type": "code",
        "id": "Ff7BLWs_xolS",
        "scrolled": true,
        "colab": {}
      },
      "source": [
        "class LSTMTagger(nn.Module):\n",
        "\n",
        "    def __init__(self, input_dim, emb_dim, hid_dim, output_dim, dropout, bidirectional=False):\n",
        "        super().__init__()\n",
        "        \n",
        "  \n",
        "        self.embeddings = '''your code'''\n",
        "        self.dropout = nn.Dropout(p=dropout)\n",
        "        \n",
        "        self.rnn = nn.LSTM('''your code''')\n",
        "        self.tag = nn.Linear((1 + bidirectional) * hid_dim, output_dim)\n",
        "\n",
        "    def forward(self, sent):\n",
        "        \n",
        "        #sent = [sent len, batch size] \n",
        "        \n",
        "        # не забываем применить dropout к embedding\n",
        "        embedded = self.dropout('''your code''')\n",
        "\n",
        "        output, _ = self.rnn(embedded)\n",
        "        #output = [sent len, batch size, hid dim * n directions]\n",
        "\n",
        "        prediction = self.tag('''your code''')\n",
        "    \n",
        "        return prediction\n",
        "        \n",
        "# параметры модели\n",
        "INPUT_DIM = len(WORD.vocab)\n",
        "OUTPUT_DIM = len(TAG.vocab)\n",
        "EMB_DIM = '''your code'''\n",
        "HID_DIM = '''your code'''\n",
        "DROPOUT = 0.5\n",
        "BIDIRECTIONAL = '''your code'''\n",
        "\n",
        "model = LSTMTagger('''your code''').to(device)\n",
        "\n",
        "# инициализируем веса\n",
        "def init_weights(m):\n",
        "    for name, param in m.named_parameters():\n",
        "        nn.init.uniform_(param, -0.08, 0.08)\n",
        "        \n",
        "model.apply(init_weights)"
      ],
      "execution_count": 0,
      "outputs": []
    },
    {
      "cell_type": "markdown",
      "metadata": {
        "id": "EJLqq8IHcMdQ",
        "colab_type": "text"
      },
      "source": [
        "Подсчитаем количество обучаемых параметров нашей модели"
      ]
    },
    {
      "cell_type": "code",
      "metadata": {
        "colab_type": "code",
        "id": "_Auu53Kdxolm",
        "colab": {}
      },
      "source": [
        "def count_parameters(model):\n",
        "    return '''your code'''\n",
        "\n",
        "print(f'The model has {count_parameters(model):,} trainable parameters')"
      ],
      "execution_count": 0,
      "outputs": []
    },
    {
      "cell_type": "markdown",
      "metadata": {
        "id": "jy_ljMLfcMdX",
        "colab_type": "text"
      },
      "source": [
        "Наша модель готова, осталось сформировать loss. На семинаре мы искали loss таким образом:"
      ]
    },
    {
      "cell_type": "code",
      "metadata": {
        "colab_type": "code",
        "id": "RxCuuxj8xoms",
        "colab": {}
      },
      "source": [
        "for x in train_iterator:\n",
        "    break\n",
        "    \n",
        "output = model(x.words)\n",
        "logp = torch.gather(F.log_softmax(output, -1), dim=2, index=x.tags[:,:,None])\n",
        "-logp.mean()"
      ],
      "execution_count": 0,
      "outputs": []
    },
    {
      "cell_type": "markdown",
      "metadata": {
        "id": "ocEG3mdOxomz",
        "colab_type": "text"
      },
      "source": [
        "Сейчас мы не будем выбирать только нужные объекты, а сразу воспользуемся помощью pytorch"
      ]
    },
    {
      "cell_type": "code",
      "metadata": {
        "colab_type": "code",
        "id": "SCumIFWRxom4",
        "colab": {}
      },
      "source": [
        "criterion = nn.CrossEntropyLoss()\n",
        "criterion(output.view(-1, output.shape[-1]), x.tags.view(-1))"
      ],
      "execution_count": 0,
      "outputs": []
    },
    {
      "cell_type": "markdown",
      "metadata": {
        "id": "oSBfvf9HcMd9",
        "colab_type": "text"
      },
      "source": [
        "Погнали обучать"
      ]
    },
    {
      "cell_type": "code",
      "metadata": {
        "colab_type": "code",
        "id": "AjD1Y7Rmxolu",
        "scrolled": true,
        "colab": {}
      },
      "source": [
        "PAD_IDX = TAG.vocab.stoi['<pad>']\n",
        "optimizer = optim.Adam(model.parameters())\n",
        "criterion = nn.CrossEntropyLoss(ignore_index = PAD_IDX)\n",
        "\n",
        "def train(model, iterator, optimizer, criterion, clip, train_history=None, valid_history=None):\n",
        "    model.train()\n",
        "    \n",
        "    epoch_loss = 0\n",
        "    history = []\n",
        "    for i, batch in enumerate(iterator):\n",
        "        \n",
        "       '''your code'''\n",
        "        \n",
        "        optimizer.zero_grad()\n",
        "        \n",
        "        output = model('''your code''')\n",
        "        \n",
        "        #tags = [sent len, batch size]\n",
        "        #output = [sent len, batch size, output dim]\n",
        "        \n",
        "        output = '''your code'''\n",
        "        tags = tags.view(-1)\n",
        "        \n",
        "        #tags = [sent len * batch size]\n",
        "        #output = [sent len * batch size, output dim]\n",
        "        \n",
        "        loss = criterion('''your code''')\n",
        "        \n",
        "        loss.backward()\n",
        "        \n",
        "        # Gradient clipping(решение проблемы взрыва граденты), clip - максимальная норма вектора\n",
        "        torch.nn.utils.clip_grad_norm_(model.parameters(), max_norm=clip)\n",
        "        \n",
        "        optimizer.step()\n",
        "        \n",
        "        epoch_loss += loss.item()\n",
        "        \n",
        "        history.append(loss.cpu().data.numpy())\n",
        "        if (i+1)%10==0:\n",
        "            fig, ax = plt.subplots(nrows=1, ncols=2, figsize=(12, 8))\n",
        "\n",
        "            clear_output(True)\n",
        "            ax[0].plot(history, label='train loss')\n",
        "            ax[0].set_xlabel('Batch')\n",
        "            ax[0].set_title('Train loss')\n",
        "            \n",
        "            if train_history is not None:\n",
        "                ax[1].plot(train_history, label='general train history')\n",
        "                ax[1].set_xlabel('Epoch')\n",
        "            if valid_history is not None:\n",
        "                ax[1].plot(valid_history, label='general valid history')\n",
        "            plt.legend()\n",
        "            \n",
        "            plt.show()\n",
        "\n",
        "        \n",
        "    return epoch_loss / len(iterator)\n",
        "\n",
        "def evaluate(model, iterator, criterion):\n",
        "    model.eval()\n",
        "    \n",
        "    epoch_loss = 0\n",
        "    \n",
        "    history = []\n",
        "    \n",
        "    with torch.no_grad():\n",
        "    \n",
        "        for i, batch in enumerate(iterator):\n",
        "\n",
        "            '''your code'''\n",
        "\n",
        "            output = model('''your code''')\n",
        "\n",
        "            #tags = [sent len, batch size]\n",
        "            #output = [sent len, batch size, output dim]\n",
        "\n",
        "            output = '''your code'''\n",
        "            tags = tags.view(-1)\n",
        "\n",
        "            #tags = [sent len * batch size]\n",
        "            #output = [sent len * batch size, output dim]\n",
        "\n",
        "            loss = criterion('''your code''')\n",
        "            \n",
        "            epoch_loss += loss.item()\n",
        "        \n",
        "    return epoch_loss / len(iterator)\n",
        "\n",
        "def epoch_time(start_time, end_time):\n",
        "    elapsed_time = end_time - start_time\n",
        "    elapsed_mins = int(elapsed_time / 60)\n",
        "    elapsed_secs = int(elapsed_time - (elapsed_mins * 60))\n",
        "    return elapsed_mins, elapsed_secs"
      ],
      "execution_count": 0,
      "outputs": []
    },
    {
      "cell_type": "code",
      "metadata": {
        "colab_type": "code",
        "id": "TJdXIyTHxol2",
        "scrolled": false,
        "colab": {}
      },
      "source": [
        "import time\n",
        "import math\n",
        "import matplotlib\n",
        "matplotlib.rcParams.update({'figure.figsize': (16, 12), 'font.size': 14})\n",
        "import matplotlib.pyplot as plt\n",
        "%matplotlib inline\n",
        "from IPython.display import clear_output\n",
        "\n",
        "train_history = []\n",
        "valid_history = []\n",
        "\n",
        "N_EPOCHS = '''your code'''\n",
        "CLIP = '''your code'''\n",
        "\n",
        "best_valid_loss = float('inf')\n",
        "\n",
        "for epoch in range(N_EPOCHS):\n",
        "    \n",
        "    start_time = time.time()\n",
        "    \n",
        "    train_loss = train(model, train_iterator, optimizer, criterion, CLIP, train_history, valid_history)\n",
        "    valid_loss = evaluate(model, valid_iterator, criterion)\n",
        "    \n",
        "    end_time = time.time()\n",
        "    \n",
        "    epoch_mins, epoch_secs = epoch_time(start_time, end_time)\n",
        "    \n",
        "    if valid_loss < best_valid_loss:\n",
        "        best_valid_loss = valid_loss\n",
        "        torch.save(model.state_dict(), 'best-val-model.pt')\n",
        "\n",
        "    train_history.append(train_loss)\n",
        "    valid_history.append(valid_loss)\n",
        "    print(f'Epoch: {epoch+1:02} | Time: {epoch_mins}m {epoch_secs}s')\n",
        "    print(f'\\tTrain Loss: {train_loss:.3f} | Train PPL: {math.exp(train_loss):7.3f}')\n",
        "    print(f'\\t Val. Loss: {valid_loss:.3f} |  Val. PPL: {math.exp(valid_loss):7.3f}')"
      ],
      "execution_count": 0,
      "outputs": []
    },
    {
      "cell_type": "markdown",
      "metadata": {
        "id": "Fr860UPacMeI",
        "colab_type": "text"
      },
      "source": [
        "### Применение модели"
      ]
    },
    {
      "cell_type": "code",
      "metadata": {
        "colab_type": "code",
        "id": "5sDAfAq9xol9",
        "colab": {}
      },
      "source": [
        "def accuracy_model(model, iterator):\n",
        "    model.eval()\n",
        "    \n",
        "    true_pred = 0\n",
        "    num_pred = 0\n",
        "    \n",
        "    with torch.no_grad():\n",
        "        for i, batch in enumerate(iterator):\n",
        "\n",
        "           '''your code'''\n",
        "\n",
        "            output = model('''your code''')\n",
        "            \n",
        "            #output = [sent len, batch size, output dim]\n",
        "            output = '''your code'''\n",
        "            \n",
        "            #output = [sent len, batch size]\n",
        "            predict_tags = output.cpu().numpy()\n",
        "            true_tags = tags.cpu().numpy()\n",
        "\n",
        "            true_pred += np.sum((true_tags == predict_tags) & (true_tags != PAD_IDX))\n",
        "            num_pred += np.prod(true_tags.shape) - (true_tags == PAD_IDX).sum()\n",
        "        \n",
        "    return round(true_pred / num_pred * 100, 3)"
      ],
      "execution_count": 0,
      "outputs": []
    },
    {
      "cell_type": "code",
      "metadata": {
        "colab_type": "code",
        "id": "V2n0H85mxomE",
        "scrolled": true,
        "colab": {}
      },
      "source": [
        "print(\"Accuracy:\", accuracy_model(model, test_iterator), '%')"
      ],
      "execution_count": 0,
      "outputs": []
    },
    {
      "cell_type": "markdown",
      "metadata": {
        "id": "FacTKSPJcMeP",
        "colab_type": "text"
      },
      "source": [
        "Вы можете улучшить качество, изменяя параметры модели. Но чтобы добиться нужного качества, вам неообходимо взять все выборку, а не только категорию `humor`."
      ]
    },
    {
      "cell_type": "code",
      "metadata": {
        "id": "QXqXg0gbcMeR",
        "colab_type": "code",
        "colab": {}
      },
      "source": [
        "#brown_tagged_sents = brown.tagged_sents(tagset=\"universal\")"
      ],
      "execution_count": 0,
      "outputs": []
    },
    {
      "cell_type": "markdown",
      "metadata": {
        "id": "gnpi2R6rcMeU",
        "colab_type": "text"
      },
      "source": [
        "Вам неоходимо добиться качества не меньше, чем `accuracy = 92 %` "
      ]
    },
    {
      "cell_type": "code",
      "metadata": {
        "colab_type": "code",
        "id": "TqD1lZuwxomK",
        "scrolled": true,
        "colab": {}
      },
      "source": [
        "best_model = LSTMTagger(INPUT_DIM, EMB_DIM, HID_DIM, OUTPUT_DIM, DROPOUT, BIDIRECTIONAL).to(device)\n",
        "best_model.load_state_dict(torch.load('best-val-model.pt'))\n",
        "assert accuracy_model(best_model, test_iterator) >= 92"
      ],
      "execution_count": 0,
      "outputs": []
    },
    {
      "cell_type": "markdown",
      "metadata": {
        "id": "nVfdJM-lcMeZ",
        "colab_type": "text"
      },
      "source": [
        "Пример решение нашей задачи:"
      ]
    },
    {
      "cell_type": "code",
      "metadata": {
        "colab_type": "code",
        "id": "W3GUbwldxomW",
        "colab": {}
      },
      "source": [
        "def print_tags(model, data):\n",
        "    model.eval()\n",
        "    \n",
        "    with torch.no_grad():\n",
        "        words, _ = data\n",
        "        example = torch.LongTensor([WORD.vocab.stoi[elem] for elem in words]).unsqueeze(1).to(device)\n",
        "        \n",
        "        output = model(example).argmax(dim=-1).cpu().numpy()\n",
        "        tags = [TAG.vocab.itos[int(elem)] for elem in output]\n",
        "\n",
        "        for token, tag in zip(words, tags):\n",
        "            print(f'{token:15s}{tag}')"
      ],
      "execution_count": 0,
      "outputs": []
    },
    {
      "cell_type": "code",
      "metadata": {
        "scrolled": false,
        "id": "4mQoHc_EcMed",
        "colab_type": "code",
        "colab": {}
      },
      "source": [
        "print_tags(model, pos_data[-1])"
      ],
      "execution_count": 0,
      "outputs": []
    },
    {
      "cell_type": "markdown",
      "metadata": {
        "colab_type": "text",
        "heading_collapsed": true,
        "id": "zMIJDOBmwC6v"
      },
      "source": [
        "## Сравните результаты моделей"
      ]
    }
  ]
}